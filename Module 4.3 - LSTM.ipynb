{
 "cells": [
  {
   "cell_type": "markdown",
   "metadata": {},
   "source": [
    "# Module 4.3 - LSTM\n",
    "Link to original paper: http://www.bioinf.jku.at/publications/older/2604.pdf\n",
    "\n",
    "Link to dataset generation: http://christianherta.de/lehre/dataScience/machineLearning/neuralNetworks/reberGrammar.php\n",
    "\n",
    "## Lessons Learned\n",
    "The model in this project is a little different from all the other projects' models. In those projects, full vectorization can be achieve since there is alway full connectivity. In this project, full vectorization can be achieved too (which is what I did), but due to some sparse connectivities (the ones connect the gates with memory cells) and recurrent connectivities, it is a lot harder to implement and can be prone to bugs. \n",
    "\n",
    "One more note on the implementation of neural networks: deciding on where to store the previous activations and inputs should be a careful decision to make. I decided to put them in the lowest abstraction level possible, but it was not a good idea. Instead, I should have to put them \"as low in the abstraction level as possible\". The distinction between lowest level and as low as possible is the following: lowest level means to store activations and inputs in Sigmoid classes, Linear classes, and Softmax classes, hoping to simplify the forward/backward propgation steps; on the other hand, if you store those data as low as possible, you are storing those which have recurrent connections (e.g. gates) and those without (e.g. output) differently. \n",
    "\n",
    "In addtion to lessons I learned while implementing the LSTM, I learn some facts about this model (the one I implemented that is, which could be prone to bugs). Firstly, the model converges on greedy outputs. By greedy outputs, I mean the outputs that make statistical sense, but don't make temporal sense. In terms of statistics, it makes sense that the model abuses the frequency of the output neuron activates: the more a neuron activates, the more likely it is going to activate. However, in the Embedded Reber Grammar problem, statistics of a neuron's activation isn't everything. The model must sccount for the temporal dependency. It must look at the past time steps, which is the point of inventing LSTM in the first place. Secondly, neither Nadam nor SGD were able to converge toward using temporal dependency of the data. Oh, and in fact, SGD performed very simliar to Nadam if not slightly more stable.\n",
    "\n",
    "## Introduction\n",
    "LSTM was invented to solve the problem of vanishing gradients. Vanishing gradients is a problem occurs in RNNs, where the errors of RNN's weights exponentially decay as the RNN unfolds in time. As LSTM unfolds in time, however, the error stays constant. "
   ]
  },
  {
   "cell_type": "code",
   "execution_count": 1,
   "metadata": {},
   "outputs": [
    {
     "name": "stderr",
     "output_type": "stream",
     "text": [
      "/Users/macbook/miniconda2/lib/python2.7/site-packages/matplotlib/__init__.py:1120: UserWarning: Bad val \"$TEMPLATE_BACKEND\" on line #41\n",
      "\t\"backend      : $TEMPLATE_BACKEND\n",
      "\"\n",
      "\tin file \"/Users/macbook/.matplotlib/matplotlibrc\"\n",
      "\tKey backend: Unrecognized backend string \"$template_backend\": valid strings are [u'pgf', u'ps', u'Qt4Agg', u'GTK', u'GTKAgg', u'nbAgg', u'agg', u'cairo', u'MacOSX', u'GTKCairo', u'Qt5Agg', u'template', u'WXAgg', u'TkAgg', u'GTK3Cairo', u'GTK3Agg', u'svg', u'WebAgg', u'pdf', u'gdk', u'WX']\n",
      "  (val, error_details, msg))\n"
     ]
    }
   ],
   "source": [
    "import numpy as np\n",
    "import matplotlib.pyplot as plt  # Plotting library\n",
    "# Allow matplotlib to plot inside this notebook\n",
    "%matplotlib inline\n",
    "from tqdm import tqdm"
   ]
  },
  {
   "cell_type": "markdown",
   "metadata": {},
   "source": [
    "## Dataset\n",
    "The dataset in this module is the embedded reber grammar problem.\n",
    "\n",
    "A sequence of chars will be generated based on the following graph, where each path is chosen at random. \n",
    "\n",
    "Each char is encoded as one hot vector. \n",
    "\n",
    "### The Embedded Reber Grammar"
   ]
  },
  {
   "cell_type": "markdown",
   "metadata": {},
   "source": [
    "![Embedded Reber Grammar](http://christianherta.de/lehre/dataScience/machineLearning/neuralNetworks/pics/embeddedReberGrammar.png)"
   ]
  },
  {
   "cell_type": "code",
   "execution_count": 2,
   "metadata": {
    "collapsed": true
   },
   "outputs": [],
   "source": [
    "chars = \"BTSXPVE \"\n",
    "\n",
    "graph = [[(1,5),('T','P')] , [(1,2),('S','X')], \\\n",
    "           [(3,5),('S','X')], [(6,),('E',)], \\\n",
    "           [(3,2),('V','P')], [(4,5),('V','T')], \\\n",
    "           [(6,6),(' ',' ')] ]\n",
    "\n",
    "def in_grammar(word):\n",
    "    if word[0] != 'B':\n",
    "        return False\n",
    "    node = 0    \n",
    "    for c in word[1:]:\n",
    "        transitions = graph[node]\n",
    "        try:\n",
    "            node = transitions[0][transitions[1].index(c)]\n",
    "        except ValueError: # using exceptions for flow control in python is common\n",
    "            return False\n",
    "    return True \n",
    "\n",
    "def generate_sequences(nb_samples, length):\n",
    "    assert nb_samples > 0\n",
    "    \n",
    "    in_sequences = []\n",
    "    out_sequences = []\n",
    "    \n",
    "    for i in range(nb_samples):\n",
    "        node = 0\n",
    "        in_sequences.append(\"B\")\n",
    "        out_sequences.append(\"\")\n",
    "        for _ in range(length):\n",
    "            transition = graph[node]\n",
    "            # randomly get a connection\n",
    "            j = np.random.randint(0,len(transition[0]))\n",
    "            # generate char sequence\n",
    "            in_sequences[i] += transition[1][j]\n",
    "            out_sequences[i] += transition[1][j]\n",
    "            node = transition[0][j]\n",
    "        assert in_grammar(in_sequences[i])\n",
    "    \n",
    "    assert len(in_sequences) == nb_samples\n",
    "    assert len(out_sequences) == nb_samples\n",
    "    \n",
    "    return in_sequences, out_sequences\n",
    "\n",
    "def char_to_one_hot(c):\n",
    "    assert chars.index(c) != -1\n",
    "    \n",
    "    one_hot = np.zeros(len(chars))\n",
    "    one_hot[chars.index(c)] = 1\n",
    "    \n",
    "    return list(one_hot)\n",
    "\n",
    "def one_hot_to_char(one_hot):\n",
    "    assert len(one_hot) == len(chars)\n",
    "    # must have one \"1\" encoded\n",
    "    assert one_hot.count(1) == 1\n",
    "    assert one_hot.count(0) == len(chars) - 1\n",
    "    assert one_hot.index(1) != -1\n",
    "    \n",
    "    return chars[one_hot.index(1)]\n",
    "    \n",
    "    \n",
    "def sequences_to_one_hots(sequences):\n",
    "    assert len(sequences) > 0\n",
    "    \n",
    "    one_hots = []\n",
    "    for s in sequences:\n",
    "        one_hots.append([])\n",
    "        for c in s:\n",
    "            one_hot = char_to_one_hot(c)\n",
    "            assert c == one_hot_to_char(one_hot)\n",
    "            one_hots[-1].append(one_hot)\n",
    "        assert len(one_hots[-1]) == len(s)\n",
    "        \n",
    "    assert len(sequences) == len(one_hots)\n",
    "    return one_hots\n",
    "\n",
    "def one_hots_to_sequences(one_hots):\n",
    "    assert len(one_hots) > 0\n",
    "    \n",
    "    sequences = []\n",
    "    for sample in one_hots:\n",
    "        sequences.append(\"\")\n",
    "        for one_hot in sample:\n",
    "            sequences[-1] += one_hot_to_char(one_hot)\n",
    "            assert char_to_one_hot(sequences[-1][-1]) == one_hot\n",
    "        assert len(sample) == len(sequences[-1])\n",
    "    \n",
    "    assert len(one_hots) == len(sequences)\n",
    "    return sequences\n",
    "\n",
    "def checkSymmetry(embedded = False):\n",
    "    if not embedded:\n",
    "        sequences, _ = generate_sequences(20, 20)\n",
    "    else:\n",
    "        sequences, _ = generate_embedded_sequence(20, 20)\n",
    "    one_hots = sequences_to_one_hots(sequences)\n",
    "    assert sequences == one_hots_to_sequences(one_hots)\n",
    "\n",
    "def generate_embedded_sequence(nb_samples, length):\n",
    "    in_sequences, out_sequences = generate_sequences(nb_samples, length)\n",
    "    for i in range(nb_samples):\n",
    "        embed = generate_sequences(1, length)[0][0].rstrip()\n",
    "        assert in_grammar(in_sequences[i])\n",
    "        in_sequences[i] = in_sequences[i][:2] + embed + in_sequences[i][2:]\n",
    "        in_sequences[i] = in_sequences[i][:length]\n",
    "        out_sequences[i] = out_sequences[i][:1] + embed + out_sequences[i][1:]\n",
    "        out_sequences[i] = out_sequences[i][:length - 1]\n",
    "        assert \"B\" + out_sequences[i] == in_sequences[i]\n",
    "        out_sequences[i] += \" \"\n",
    "    assert len(in_sequences) == nb_samples\n",
    "    return in_sequences, out_sequences\n",
    "\n",
    "checkSymmetry(True)"
   ]
  },
  {
   "cell_type": "code",
   "execution_count": 3,
   "metadata": {
    "collapsed": true
   },
   "outputs": [],
   "source": [
    "X_train, t_train = generate_embedded_sequence(256, 20)\n",
    "X_test, t_test = generate_embedded_sequence(256, 20)\n",
    "\n",
    "X_train = sequences_to_one_hots(X_train)\n",
    "t_train = sequences_to_one_hots(t_train)\n",
    "X_test = sequences_to_one_hots(X_test)\n",
    "t_test = sequences_to_one_hots(t_test)"
   ]
  },
  {
   "cell_type": "markdown",
   "metadata": {},
   "source": [
    "## Long Short Term Memory\n",
    "Layers and gates"
   ]
  },
  {
   "cell_type": "code",
   "execution_count": 4,
   "metadata": {
    "collapsed": true
   },
   "outputs": [],
   "source": [
    "learning_rate = 0.15\n",
    "momentum = 0.1\n",
    "itr = 1000"
   ]
  },
  {
   "cell_type": "code",
   "execution_count": 5,
   "metadata": {
    "collapsed": true
   },
   "outputs": [],
   "source": [
    "# split matrix top down (by columns)\n",
    "class MatrixSplitter(object):\n",
    "    def __init__(self, col_per_out):\n",
    "        assert isinstance(col_per_out, list)\n",
    "        assert len(col_per_out) > 1\n",
    "        \n",
    "        self.cols = [0]\n",
    "        col_per_out = col_per_out\n",
    "        for i in range(1, len(col_per_out)):\n",
    "            self.cols.append(self.cols[-1] + col_per_out[i - 1])\n",
    "        self.cols.remove(0)\n",
    "        \n",
    "    def forward(self, X):\n",
    "        return np.split(X, self.cols, axis = -1)\n",
    "    \n",
    "    def backward(self, Y):\n",
    "        return np.concatenate(Y, axis = -1)\n",
    "        "
   ]
  },
  {
   "cell_type": "code",
   "execution_count": 6,
   "metadata": {
    "collapsed": true
   },
   "outputs": [],
   "source": [
    "class Sigmoid(object):\n",
    "    def __init__(self):\n",
    "        self.activation = []\n",
    "    def forward(self, X):\n",
    "        self.activation.append(1 / (1 + np.exp(-X)))\n",
    "        return self.activation[-1]\n",
    "    def backward(self, outgrad):\n",
    "        activations = np.reshape(np.ravel(self.activation), (np.array(self.activation).shape[2],np.array(self.activation).shape[0] * np.array(self.activation).shape[1])).T\n",
    "        out = outgrad * activations * (1 - activations)\n",
    "        self.activation = []\n",
    "        return out"
   ]
  },
  {
   "cell_type": "code",
   "execution_count": 7,
   "metadata": {
    "collapsed": true
   },
   "outputs": [],
   "source": [
    "class Softmax(object):\n",
    "    def forward(self, z):\n",
    "        self.activation = (np.exp(z) / np.sum(np.exp(z), axis=-1, keepdims=True))\n",
    "        return self.activation\n",
    "    def backward(self, outgrad):\n",
    "        out = (self.activation - outgrad) / self.activation.shape[0]\n",
    "        return out\n",
    "    def cost(self, T):\n",
    "        return - np.multiply(T, np.log(self.activation)).sum() / self.activation.shape[0]"
   ]
  },
  {
   "cell_type": "code",
   "execution_count": 8,
   "metadata": {
    "collapsed": true
   },
   "outputs": [],
   "source": [
    "# Nadam hyperparameters\n",
    "t = 0\n",
    "beta_1 = 0.9\n",
    "beta_2 = 0.999\n",
    "eps = 1e-8"
   ]
  },
  {
   "cell_type": "code",
   "execution_count": 9,
   "metadata": {
    "collapsed": true
   },
   "outputs": [],
   "source": [
    "class Linear(object):\n",
    "    def __init__(self, W, b = None):\n",
    "        self.W = W\n",
    "        if b == None:\n",
    "            self.b = 0\n",
    "        else:\n",
    "            self.b = b\n",
    "        self.X = []\n",
    "        \n",
    "        # for Nadam\n",
    "        self.param_grad = 0\n",
    "        self.b_grad = 0\n",
    "        self.param_v_t = 0\n",
    "        self.param_m_t = 0\n",
    "        self.b_m_t = 0\n",
    "        self.b_v_t = 0\n",
    "        \n",
    "        # SGD\n",
    "        self.param_update = 0\n",
    "        self.b_update = 0\n",
    "        \n",
    "    def forward(self, X):\n",
    "        self.X.append(X)\n",
    "        return np.tensordot(X, self.W, axes=((-1), (0))) + self.b\n",
    "    \n",
    "    def backward(self, outgrad):\n",
    "        # calculate return value before we change weights\n",
    "        grad = np.tensordot(outgrad, self.W.T, axes=((-1), (0)))\n",
    "        # calculate weight changes\n",
    "        bpaxes = tuple(range(len(outgrad.shape) - 1))\n",
    "        if len(np.array(self.X).shape) == 4:\n",
    "            self.X = self.X[0]\n",
    "        if len(np.array(self.X).shape) - len(outgrad.shape) == 1:\n",
    "            self.X = np.reshape(self.X, (np.array(self.X).shape[0] * np.array(self.X).shape[1], np.array(self.X).shape[2]))\n",
    "        #print np.array(self.X).shape, outgrad.shape, bpaxes\n",
    "        param_grad = np.tensordot(np.array(self.X), outgrad, axes=(bpaxes, bpaxes))\n",
    "        b_grad = np.sum(outgrad, axis = bpaxes)\n",
    "        self.update_weights(param_grad, b_grad)\n",
    "        self.X = []\n",
    "        return grad\n",
    "    '''\n",
    "    #Nadam\n",
    "    def update_weights(self, param_grad, b_grad):\n",
    "        global learning_rate\n",
    "        global momentum\n",
    "        global t\n",
    "        \n",
    "        t += 1\n",
    "        \n",
    "        # update weights\n",
    "        self.param_m_t = beta_1 * self.param_m_t + (1 - beta_1) * self.param_grad\n",
    "        self.param_v_t = beta_2 * self.param_v_t + (1 - beta_2) * self.param_grad ** 2\n",
    "        g_corr_t = self.param_grad / (1 - beta_1 ** t)\n",
    "        m_corr_t = self.param_m_t / (1 - beta_1 ** (t + 1))\n",
    "        v_corr_t = self.param_v_t / (1 - beta_2 ** t)\n",
    "        m_nes_t = (1 - beta_1) * g_corr_t + beta_1 * m_corr_t\n",
    "        \n",
    "        self.W = self.W - learning_rate * m_nes_t / ((v_corr_t ** 0.5) + eps)\n",
    "        \n",
    "        # update bias\n",
    "        self.b_m_t = beta_1 * self.b_m_t + (1 - beta_1) * self.b_grad\n",
    "        self.b_v_t = beta_2 * self.b_v_t + (1 - beta_2) * self.b_grad ** 2\n",
    "        g_corr_t = self.b_grad / (1 - beta_1 ** t)\n",
    "        m_corr_t = self.b_m_t / (1 - beta_1 ** (t + 1))\n",
    "        v_corr_t = self.b_v_t / (1 - beta_2 ** t)\n",
    "        m_nes_t = (1 - beta_1) * g_corr_t + beta_1 * m_corr_t\n",
    "        \n",
    "        self.b = self.b - learning_rate * m_nes_t / ((v_corr_t ** 0.5) + eps)\n",
    "        \n",
    "        # save for later\n",
    "        self.param_grad = param_grad\n",
    "        self.b_grad = b_grad\n",
    "    '''\n",
    "    #stochastic gradient descent with momentum\n",
    "    def update_weights(self, param_grad, b_grad):\n",
    "        global learning_rate\n",
    "        global momentum\n",
    "        \n",
    "        param_momentum = self.param_update * momentum\n",
    "        b_momentum = self.b_update * momentum\n",
    "        \n",
    "        self.param_update = - param_grad * learning_rate + param_momentum\n",
    "        self.b_update = - b_grad * learning_rate + b_momentum\n",
    "        \n",
    "        #print \"grad: \" + repr(param_grad.shape), \"w: \" + repr(self.W.shape)\n",
    "        self.W += self.param_update \n",
    "        self.b += self.b_update "
   ]
  },
  {
   "cell_type": "markdown",
   "metadata": {},
   "source": [
    "## Update Parameters - Nadam\n",
    "The following section contains the implementation of the gradient based optimization technique\n",
    "\n",
    "Pusedo-code: \n",
    "```python\n",
    "notations: \n",
    "    learning_rate\n",
    "    eps: fudge factor\n",
    "    beta_1, beta_2: decay rates\n",
    "    f(theta): objective function\n",
    "    g(theta): gradient function of f\n",
    "    theta_0: initial param\n",
    "    m_0 = 0: first moment\n",
    "    v_0 = 0: second raw moment\n",
    "    t_0 = 0: initial time step\n",
    "algorithm:\n",
    "    while not CONVERGE:\n",
    "        t += 1\n",
    "        g_t = g(theta_t-1)\n",
    "        m_t = beta_1 * m_t-1 + (1 - beta_1) * g_t\n",
    "        v_t = beta_2 * v_t-1 + (1 - beta_2) * g_t ** 2\n",
    "        g_corr_t = g_t / (1 - beta_1 ** t)\n",
    "        m_corr_t = m_t / (1 - beta_1 ** (t + 1))\n",
    "        v_corr_t = v_t / (1 - beta_2 ** t)\n",
    "        m_nes_t = (1 - beta_1) * g_corr_t + beta_1 * m_corr_t\n",
    "        theta_t = theta_t-1 - learning_rate * m_nes_t / (sqrt(v_corr_t) + eps)\n",
    "```"
   ]
  },
  {
   "cell_type": "code",
   "execution_count": 10,
   "metadata": {
    "collapsed": true
   },
   "outputs": [],
   "source": [
    "class Gate(object):\n",
    "    def __init__(self, W, b = None):\n",
    "        self.linear = Linear(W, b)\n",
    "        self.sigmoid = Sigmoid()\n",
    "    def forward(self, X):\n",
    "        return self.sigmoid.forward(self.linear.forward(X))\n",
    "    def backward(self, outgrad):\n",
    "        return self.linear.backward(self.sigmoid.backward(outgrad))"
   ]
  },
  {
   "cell_type": "code",
   "execution_count": 11,
   "metadata": {
    "collapsed": true
   },
   "outputs": [],
   "source": [
    "class MemoryBlock(object):\n",
    "    def __init__(self, W_i, W_r, b, nb_of_memory_cells_per_block):\n",
    "        self.nb_of_inputs = W_i.shape[0]\n",
    "        self.nb_of_units = W_r.shape[1]\n",
    "        nb_of_memory_blocks = self.nb_of_units / (nb_of_memory_cells_per_block + 2)\n",
    "        nb_of_in_out_gates = nb_of_memory_blocks\n",
    "        self.nb_of_memory_cell_gates = nb_of_memory_blocks * nb_of_memory_cells_per_block\n",
    "        self.nb_of_memory_cells_per_block = nb_of_memory_cells_per_block\n",
    "        self.nb_of_gates = nb_of_in_out_gates * 2\n",
    "        \n",
    "        # let's call the g unit along with its incoming connections a \"memory cell gate\"\n",
    "        self.memory_cell_gate = Gate(np.concatenate([W_i[:, :self.nb_of_memory_cell_gates], W_r[:, :self.nb_of_memory_cell_gates]], axis = 0))\n",
    "        self.input_gate = Gate(np.concatenate([W_i[:, self.nb_of_memory_cell_gates:self.nb_of_memory_cell_gates+nb_of_in_out_gates], W_r[:, self.nb_of_memory_cell_gates:self.nb_of_memory_cell_gates+nb_of_in_out_gates]]), b[:, 0])\n",
    "        self.output_gate = Gate(np.concatenate([W_i[:, self.nb_of_memory_cell_gates+nb_of_in_out_gates:], W_r[:, self.nb_of_memory_cell_gates+nb_of_in_out_gates:]]), b[:, 1])\n",
    "        self.non_linearity = Sigmoid()\n",
    "        \n",
    "    def unfold(self, X):\n",
    "        self.h = []\n",
    "        self.g = []\n",
    "        self.y_in_his = []\n",
    "        self.y_out_his = []\n",
    "        \n",
    "        X_r = np.zeros((X.shape[0], self.nb_of_units))\n",
    "        S = np.zeros((X.shape[0], self.nb_of_memory_cell_gates))\n",
    "        output = np.zeros((X.shape[0], X.shape[1], self.nb_of_memory_cell_gates))\n",
    "                          \n",
    "        for k in range(X.shape[1]):\n",
    "            X_k = np.concatenate([X_r, X[:, k, :]], axis = -1)\n",
    "            self.g.append(self.memory_cell_gate.forward(X_k))\n",
    "            y_in = self.input_gate.forward(X_k)\n",
    "            y_out = self.output_gate.forward(X_k)\n",
    "            # update X_r partially\n",
    "            X_r[:, :self.nb_of_gates] = np.concatenate([y_in, y_out], axis = -1)\n",
    "            self.y_in_his.append(np.repeat(y_in, 2, axis = -1))\n",
    "            self.y_out_his.append(np.repeat(y_out, 2, axis = -1))\n",
    "            g_y_in = np.multiply(self.g[-1], self.y_in_his[-1])\n",
    "            S += g_y_in\n",
    "            self.h.append(self.non_linearity.forward(S))\n",
    "            h_y_out = np.multiply(self.h[-1], self.y_out_his[-1])\n",
    "            X_r[:,self.nb_of_gates:] =  h_y_out\n",
    "            output[:, k, :] = h_y_out\n",
    "            \n",
    "        self.h = np.array(self.h)\n",
    "        self.g = np.array(self.g)\n",
    "        self.y_in_his = np.array(self.y_in_his)\n",
    "        self.y_out_his = np.array(self.y_out_his)\n",
    "        \n",
    "        self.h = np.reshape(np.ravel(self.h.T), (self.h.shape[2],self.h.shape[0] * self.h.shape[1])).T\n",
    "        self.g = np.reshape(np.ravel(self.g.T), (self.g.shape[2],self.g.shape[0] * self.g.shape[1])).T\n",
    "        self.y_in_his = np.reshape(np.ravel(self.y_in_his.T), (self.y_in_his.shape[2],self.y_in_his.shape[0] * self.y_in_his.shape[1])).T\n",
    "        self.y_out_his = np.reshape(np.ravel(self.y_out_his.T), (self.y_out_his.shape[2],self.y_out_his.shape[0] * self.y_out_his.shape[1])).T\n",
    "        \n",
    "        return output\n",
    "    \n",
    "    def bptt(self, outgrad):\n",
    "        nb_of_time_steps = outgrad.shape[1]\n",
    "        nb_of_samples = outgrad.shape[0]\n",
    "        \n",
    "        outgrad = np.reshape(np.ravel(outgrad), (outgrad.shape[0] * outgrad.shape[1], outgrad.shape[2]))\n",
    "        g_y_out = np.multiply(self.h, outgrad)\n",
    "        g_h = np.multiply(self.h, self.y_out_his)\n",
    "        g_S = self.non_linearity.backward(g_h)\n",
    "        g_g_y_in = np.multiply(self.g, g_S)\n",
    "        g_g = np.multiply(self.g, self.y_in_his)\n",
    "        \n",
    "        # put everything back to shape\n",
    "        g_g_from_memory_cells = self.memory_cell_gate.backward(g_g)[:, :self.nb_of_inputs]\n",
    "        g_g_from_memory_cells = np.reshape(np.ravel(g_g_from_memory_cells), (nb_of_samples, nb_of_time_steps, g_g_from_memory_cells.shape[1]))\n",
    "        \n",
    "        #g_g_y_in = np.reshape(np.ravel(g_g), (nb_of_samples, nb_of_time_steps, g_g_y_in.shape[1]))\n",
    "        g_g_y_in = np.sum(np.reshape(np.ravel(g_g_y_in), (g_g_y_in.shape[0], g_g_y_in.shape[1] / 2, 2) ), axis = -1)\n",
    "        # only propgate the input errors\n",
    "        # because the errors from networks are not suppose to go back in time\n",
    "        g_g_from_input_gates = self.input_gate.backward(g_g_y_in)[:, :self.nb_of_inputs]\n",
    "        g_g_from_input_gates = np.reshape(np.ravel(g_g_from_input_gates), (nb_of_samples, nb_of_time_steps, g_g_from_input_gates.shape[1]))\n",
    "\n",
    "        #g_y_out = np.reshape(np.ravel(g_g), (nb_of_samples, nb_of_time_steps, g_y_out.shape[1]))\n",
    "        g_y_out = np.sum(np.reshape(np.ravel(g_y_out), (g_y_out.shape[0], g_y_out.shape[1] / 2, 2) ), axis = -1)\n",
    "        g_g_from_output_gates = self.output_gate.backward(g_y_out)[:, :self.nb_of_inputs]\n",
    "        g_g_from_output_gates = np.reshape(np.ravel(g_g_from_output_gates), (nb_of_samples, nb_of_time_steps, g_g_from_output_gates.shape[1]))\n",
    "        \n",
    "        return g_g_from_memory_cells + g_g_from_input_gates + g_g_from_output_gates\n",
    "        "
   ]
  },
  {
   "cell_type": "markdown",
   "metadata": {},
   "source": [
    "## Model"
   ]
  },
  {
   "cell_type": "code",
   "execution_count": 26,
   "metadata": {
    "collapsed": true
   },
   "outputs": [],
   "source": [
    "class LSTM(object):\n",
    "    def __init__(self, n_in, n_out, nb_of_memory_blocks, nb_of_memory_cells_per_block):\n",
    "        \n",
    "        # input layer\n",
    "        n_hidden = nb_of_memory_blocks * nb_of_memory_cells_per_block\n",
    "        self.input = Linear(np.random.uniform(-1, 1, (n_in, n_in)))\n",
    "        \n",
    "        # connectivity\n",
    "        W_i = np.random.uniform(-1, 1, (n_in, n_hidden + 2 * nb_of_memory_blocks))\n",
    "        W_r = np.random.uniform(-1, 1, (n_hidden + 2 * nb_of_memory_blocks, n_hidden + 2 * nb_of_memory_blocks))\n",
    "        b = np.random.uniform(-1, 1, (nb_of_memory_blocks, 2))\n",
    "        \n",
    "        # hidden layer\n",
    "        self.hidden = MemoryBlock(W_i, W_r, b, nb_of_memory_cells_per_block)\n",
    "        \n",
    "        # output layer\n",
    "        self.output_linear = Linear(np.random.uniform(-1, 1, (n_hidden, n_out)))\n",
    "        self.output_non_linearity = Softmax()\n",
    "        \n",
    "        self.historical_costs = []\n",
    "        \n",
    "    def forward(self, X):\n",
    "        #z_input = self.input.forward(X)\n",
    "        z_input = np.array(X)\n",
    "        z_hidden = self.hidden.unfold(z_input)\n",
    "        z_output_linear =  self.output_linear.forward(z_hidden)\n",
    "        return self.output_non_linearity.forward(z_output_linear)\n",
    "    \n",
    "    def backward(self, T):\n",
    "        outgrad = self.output_non_linearity.backward(T)\n",
    "        outgrad = self.output_linear.backward(outgrad)\n",
    "        outgrad = self.hidden.bptt(outgrad)\n",
    "        #outgrad = self.input.backward(outgrad)\n",
    "        self.historical_costs.append(self.output_non_linearity.cost(T))\n",
    "        return outgrad"
   ]
  },
  {
   "cell_type": "code",
   "execution_count": 55,
   "metadata": {
    "scrolled": false
   },
   "outputs": [
    {
     "name": "stderr",
     "output_type": "stream",
     "text": [
      "/Users/macbook/miniconda2/lib/python2.7/site-packages/ipykernel_launcher.py:4: FutureWarning: comparison to `None` will result in an elementwise object comparison in the future.\n",
      "  after removing the cwd from sys.path.\n"
     ]
    }
   ],
   "source": [
    "lstm = LSTM(8, 8, 3, 2)"
   ]
  },
  {
   "cell_type": "code",
   "execution_count": 56,
   "metadata": {},
   "outputs": [
    {
     "name": "stderr",
     "output_type": "stream",
     "text": [
      "100%|██████████| 1000/1000 [03:46<00:00,  4.33it/s]\n"
     ]
    }
   ],
   "source": [
    "for _ in tqdm(range(itr)):\n",
    "    X_train, t_train = generate_embedded_sequence(256, 20)\n",
    "\n",
    "    X_train = sequences_to_one_hots(X_train)\n",
    "    t_train = sequences_to_one_hots(t_train)\n",
    "\n",
    "    lstm.forward(X_train)\n",
    "    lstm.backward(t_train)"
   ]
  },
  {
   "cell_type": "code",
   "execution_count": 82,
   "metadata": {},
   "outputs": [
    {
     "data": {
      "image/png": "[encoded data removed]",
      "text/plain": [
       "<matplotlib.figure.Figure at 0x1081069d0>"
      ]
     },
     "metadata": {},
     "output_type": "display_data"
    }
   ],
   "source": [
    "plt.plot(lstm.historical_costs, 'b-')\n",
    "plt.xlabel('itr')\n",
    "plt.ylabel('cost')\n",
    "plt.title('LSTM Cost over time')\n",
    "plt.grid()\n",
    "plt.show()"
   ]
  },
  {
   "cell_type": "code",
   "execution_count": 98,
   "metadata": {},
   "outputs": [
    {
     "name": "stdout",
     "output_type": "stream",
     "text": [
      "[[[1.0, 0.0, 0.0, 0.0, 0.0, 0.0, 0.0, 0.0]]]\n",
      "['T']\n",
      "[' ']\n"
     ]
    }
   ],
   "source": [
    "X_test, t_test = generate_embedded_sequence(1, 1)\n",
    "X_test = sequences_to_one_hots(X_test)\n",
    "t_test = sequences_to_one_hots(t_test)\n",
    "\n",
    "idx = np.argmax(lstm.forward(X_test), axis = 2)[0]\n",
    "out = []\n",
    "for i in idx:\n",
    "    out.append([0,0,0,0,0,0,0,0])\n",
    "    out[-1][i] = 1\n",
    "print one_hots_to_sequences([out])\n",
    "print one_hots_to_sequences(t_test)"
   ]
  },
  {
   "cell_type": "code",
   "execution_count": 74,
   "metadata": {},
   "outputs": [
    {
     "data": {
      "text/plain": [
       "['BTBTSXXVPX']"
      ]
     },
     "execution_count": 74,
     "metadata": {},
     "output_type": "execute_result"
    }
   ],
   "source": [
    "generate_embedded_sequence(1, 10)[0]"
   ]
  },
  {
   "cell_type": "code",
   "execution_count": 75,
   "metadata": {},
   "outputs": [
    {
     "name": "stdout",
     "output_type": "stream",
     "text": [
      "[30.319092434522659, 30.221080922352868, 30.643779199659278, 30.686330581806828, 31.045844879419608, 30.427760527818808, 30.212239454344918, 30.16245575380033, 30.819688839932223, 30.712528673221264]\n"
     ]
    }
   ],
   "source": [
    "print lstm.historical_costs[len(lstm.historical_costs)-10:]"
   ]
  },
  {
   "cell_type": "code",
   "execution_count": 76,
   "metadata": {},
   "outputs": [
    {
     "name": "stdout",
     "output_type": "stream",
     "text": [
      "[ 0. -2. -0. -1. -0. -3.]\n"
     ]
    }
   ],
   "source": [
    "print np.round(np.sum(lstm.output_linear.W, axis = 1))"
   ]
  },
  {
   "cell_type": "code",
   "execution_count": 77,
   "metadata": {},
   "outputs": [
    {
     "name": "stdout",
     "output_type": "stream",
     "text": [
      "[ 1. -0.  1. -1. -1. -2. -2. -0. -0. -1. -1.  1.  1. -0. -1. -1.  0. -2.\n",
      " -0.  0.]\n"
     ]
    }
   ],
   "source": [
    "print np.round(np.sum(lstm.hidden.output_gate.linear.W, axis = 1))"
   ]
  },
  {
   "cell_type": "code",
   "execution_count": 78,
   "metadata": {},
   "outputs": [
    {
     "name": "stdout",
     "output_type": "stream",
     "text": [
      "[ -5. -16. -12. -14.  -8.  -9.  -9.  -7.  -6.  -7.  -7.  -7.  -4.  -3.  -1.\n",
      "  -2.  -2.  -3.  -2.  -5.]\n"
     ]
    }
   ],
   "source": [
    "print np.round(np.sum(lstm.hidden.input_gate.linear.W, axis = 1))"
   ]
  },
  {
   "cell_type": "code",
   "execution_count": 79,
   "metadata": {},
   "outputs": [
    {
     "name": "stdout",
     "output_type": "stream",
     "text": [
      "[ -52. -254. -217. -213. -128. -120. -148. -146. -115. -113. -108. -107.\n",
      "  -35.  -44.  -34.  -33.  -31.  -48.  -33.  -92.]\n"
     ]
    }
   ],
   "source": [
    "print np.round(np.sum(lstm.hidden.memory_cell_gate.linear.W, axis = 1))"
   ]
  },
  {
   "cell_type": "code",
   "execution_count": 119,
   "metadata": {
    "collapsed": true
   },
   "outputs": [],
   "source": [
    "idx = np.argmax(lstm.forward([[[0,0,0,0,0,1,0,0]]]), axis = 2)"
   ]
  },
  {
   "cell_type": "code",
   "execution_count": 120,
   "metadata": {},
   "outputs": [
    {
     "data": {
      "text/plain": [
       "7"
      ]
     },
     "execution_count": 120,
     "metadata": {},
     "output_type": "execute_result"
    }
   ],
   "source": [
    "idx[0][0]"
   ]
  },
  {
   "cell_type": "code",
   "execution_count": null,
   "metadata": {
    "collapsed": true
   },
   "outputs": [],
   "source": []
  }
 ],
 "metadata": {
  "kernelspec": {
   "display_name": "Python 2",
   "language": "python",
   "name": "python2"
  },
  "language_info": {
   "codemirror_mode": {
    "name": "ipython",
    "version": 2
   },
   "file_extension": ".py",
   "mimetype": "text/x-python",
   "name": "python",
   "nbconvert_exporter": "python",
   "pygments_lexer": "ipython2",
   "version": "2.7.12"
  }
 },
 "nbformat": 4,
 "nbformat_minor": 2
}
