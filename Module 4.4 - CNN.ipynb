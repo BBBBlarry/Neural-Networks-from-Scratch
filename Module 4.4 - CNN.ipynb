{
 "cells": [
  {
   "cell_type": "markdown",
   "metadata": {},
   "source": [
    "# Module 4.4 - CNN\n",
    "link to original white paper: https://ip.cadence.com/uploads/901/cnn_wp-pdf\n",
    "\n",
    "link to original post: http://cs231n.github.io/convolutional-networks/"
   ]
  },
  {
   "cell_type": "markdown",
   "metadata": {},
   "source": [
    "## Lessons Learned\n",
    "Implementing a CNN is unargubly one of the most fun experiences I've had in this summer class due to its intuitive nature and being able to visualize the operations. \n",
    "\n",
    "One thing I would improve if I were to implement a CNN again is to have fully connected layers and convolutional layers share the same inherentence. The reason is the difference between the two is minimum: everytime I change something in FC I have to do the same to conv layers. \n",
    "\n",
    "The filters learned in project are quite interesting. At a first glance, they seem to have a tendency turn the image to negative in the first conv layer, so that the negative spaces in the input become areas of high activations. It is actually not the case: after calculating the abs val of the first conv layer output, we can see the numbers remain to be areas of high activation, though the activations are negative. However, in this task, it doesn't really matter if the network uses the negative or positive space to classify since they have about the same amount of predictive power. "
   ]
  },
  {
   "cell_type": "code",
   "execution_count": 1,
   "metadata": {},
   "outputs": [
    {
     "name": "stderr",
     "output_type": "stream",
     "text": [
      "/Users/macbook/miniconda2/lib/python2.7/site-packages/matplotlib/__init__.py:1120: UserWarning: Bad val \"$TEMPLATE_BACKEND\" on line #41\n",
      "\t\"backend      : $TEMPLATE_BACKEND\n",
      "\"\n",
      "\tin file \"/Users/macbook/.matplotlib/matplotlibrc\"\n",
      "\tKey backend: Unrecognized backend string \"$template_backend\": valid strings are [u'pgf', u'ps', u'Qt4Agg', u'GTK', u'GTKAgg', u'nbAgg', u'agg', u'cairo', u'MacOSX', u'GTKCairo', u'Qt5Agg', u'template', u'WXAgg', u'TkAgg', u'GTK3Cairo', u'GTK3Agg', u'svg', u'WebAgg', u'pdf', u'gdk', u'WX']\n",
      "  (val, error_details, msg))\n"
     ]
    }
   ],
   "source": [
    "import numpy as np\n",
    "np.random.seed(42)\n",
    "from tqdm import tqdm\n",
    "import matplotlib.pyplot as plt  # Plotting library\n",
    "# Allow matplotlib to plot inside this notebook\n",
    "%matplotlib inline"
   ]
  },
  {
   "cell_type": "markdown",
   "metadata": {},
   "source": [
    "## Introduction\n",
    "A CNN is a special case of artificial neural networks. CNNs usually are consisted of one or more convolutional layers,  often with a subsampling layer, and followed by one or more fully connected layers. \n",
    "\n",
    "## Theory\n",
    "The design of CNN is inspired by the discovery of the visual mechnism found in the visual cortex of the brain. The visual cortex is responsible for detecting light in small, overlapping sub-regoins, called the \"receptive fields\". They act as filters for local features in the input such as corners, edges, and etc. In CNN, convolutional layers play the role of the cortex: the inputs are recieved by local receptive fields to extract elementary visual features. The features extraction process traditionally are done by hand. On the other hand, it is done through the training process in CNNs. Last in the training process, a classifer predicts the label for the image. \n",
    "\n",
    "## Layers\n",
    "A ConvNet is made up of Layers. Every Layer has a simple API: It transforms an input 3D volume to an output 3D volume with some differentiable function that may or may not have parameters.\n",
    "\n",
    "There are three main types of layers: Convolutional Layer, Pooling Layer, and Fully-Connected Layer. We stack them to build a full CNN. \n",
    "\n",
    "### Convolutional layers\n",
    "#### Sptial Arrangement\n",
    "There are three hyperparameters controls the output shape and arrangement: \n",
    "1. Depth (F): the number of filters. Neurons in each filter may represent things like oriented edges, or blobs of color. We will refer to a set of neurons that are all looking at the same region of the input as a depth column (some people also prefer the term fibre).\n",
    "2. Stride (S): how much we move the filters each time. Stride of 1 means to move filter 1 unit at a time. Note that the larger the stride the smaller the output volume. Sometimes, strides may not \"fit\", meaning the output doesn't have a integer size: we use zero-padding to solve it. \n",
    "3. Zero-padding (S): This allows us to control the spaial size of the output, especially when we want to perserve the size of the input. \n",
    "\n",
    "The output size is given by $O = (W−F+2P)/S + 1$, $W$ is the width of input.\n",
    "\n",
    "#### Parameter Sharing\n",
    "For each filter, the weights and bias are shared within the depth. Say if the receptive field (depth) is 11, and the the input is 3 units deep and there are 96 filters. Then we have $11 * 11 * 3 * 96 + 96 = 34,944$ weights (including bias). \n",
    "\n",
    "Notice that if all neurons in a single depth slice are using the same weight vector, then the forward pass of the CONV layer can in each depth slice be computed as a convolution of the neuron’s weights with the input volume (Hence the name: Convolutional Layer). \n",
    "\n",
    "In that case it is common to relax the parameter sharing scheme, and instead simply call the layer a Locally-Connected Layer.\n",
    "\n",
    "#### 1 * 1 Convolutions\n",
    "Normally, $1 * 1$ convolutions is simply scaling of a matrix. However, in our 3D case, a $1 * 1$ convolution changes (W, H, D) sized input to (W, H, K) sized output. Effectively, such convolution does not take spatial information into account, but it takes the depth informtion into accuont. In addtion, it can be used to reduce the number of weights in the network.\n",
    "\n",
    "#### Dilated convolutions\n",
    "In addition to receptive field, stride, padding, you can add dilation to your convolution. In convolution, if dilation of D is introduced, there would be an offset of D between each input dotted with the corresponding weight. For example, for an one dimensional filter of size 3, with D = 1, the result is $w[0]*x[0] + w[1]*x[2] + w[2]*x[4]$\n",
    "\n",
    "#### Summary \n",
    "For an input image size of (W1, H1, D1), receptive field F, zero-padding P, stride S, number of filters K, we have the output sized \n",
    "1. $W2 = (W1 + 2P - F) / S + 1 $\n",
    "2. $H2 = (H1 + 2P - F) / S + 1$\n",
    "3. $D2 = K$\n",
    "\n",
    "It introduces a number of parameters. For each filter, there are $F * F * D1$ weights. In total, there are $F * F * D1 * K$ weights and $K$ biases. "
   ]
  },
  {
   "cell_type": "markdown",
   "metadata": {},
   "source": [
    "#### Implementation"
   ]
  },
  {
   "cell_type": "code",
   "execution_count": 2,
   "metadata": {
    "collapsed": true
   },
   "outputs": [],
   "source": [
    "X = np.random.uniform(-1, 1, (227, 227, 3))\n",
    "W = np.random.uniform(-1, 1, (11, 11, 3, 96))"
   ]
  },
  {
   "cell_type": "code",
   "execution_count": 3,
   "metadata": {},
   "outputs": [
    {
     "name": "stdout",
     "output_type": "stream",
     "text": [
      "New height will be: 55\n",
      "New width will be: 55\n"
     ]
    }
   ],
   "source": [
    "# hyper params\n",
    "S = 4\n",
    "P = 0\n",
    "F = 11\n",
    "K = 96\n",
    "\n",
    "assert (X.shape[0] + 2.0 * P - F) / S % 1 == 0\n",
    "assert (X.shape[1] + 2.0 * P - F) / S % 1 == 0\n",
    "\n",
    "H2 = (X.shape[0] + 2 * P - F) / S + 1\n",
    "W2 = (X.shape[1] + 2 * P - F) / S + 1\n",
    "\n",
    "\n",
    "\n",
    "print \"New height will be: \" + str(H2)\n",
    "print \"New width will be: \" + str(W2)"
   ]
  },
  {
   "cell_type": "code",
   "execution_count": 4,
   "metadata": {
    "collapsed": true
   },
   "outputs": [],
   "source": [
    "# sliding window\n",
    "def im2col(X, S, F):\n",
    "    # new size\n",
    "    assert X.shape[0] == X.shape[1]\n",
    "    W2 = (X.shape[0] - F) / S + 1\n",
    "    # depth\n",
    "    D = X.shape[2]\n",
    "    # output\n",
    "    X_col = np.zeros((F * F * D, W2 * W2))\n",
    "    \n",
    "    # slide the window\n",
    "    X_col_ind = 0\n",
    "    for i in range(W2):\n",
    "        for j in range(W2):\n",
    "            X_col[:, X_col_ind] = np.reshape(np.ravel(X[i*S:i*S+F, j*S:j*S+F, :]), (F * F * D))\n",
    "            X_col_ind += 1\n",
    "    return X_col"
   ]
  },
  {
   "cell_type": "code",
   "execution_count": 5,
   "metadata": {
    "collapsed": true
   },
   "outputs": [],
   "source": [
    "# expend weights\n",
    "def im2row(W):\n",
    "    n = W.shape[0] * W.shape[1] * W.shape[2]\n",
    "    W_row = np.zeros((W.shape[3], n))\n",
    "    for k in range(W.shape[3]):\n",
    "        W_row[k] = np.reshape(np.ravel(W[:, :, :, k]), (n))\n",
    "    return W_row"
   ]
  },
  {
   "cell_type": "code",
   "execution_count": 6,
   "metadata": {},
   "outputs": [
    {
     "name": "stdout",
     "output_type": "stream",
     "text": [
      "New input shape: (363, 3025)\n",
      "New weight shape: (96, 363)\n"
     ]
    }
   ],
   "source": [
    "X_col = im2col(X, S, F)\n",
    "W_row = im2row(W)\n",
    "\n",
    "print \"New input shape: \" + repr(X_col.shape)\n",
    "print \"New weight shape: \" + repr(W_row.shape)"
   ]
  },
  {
   "cell_type": "code",
   "execution_count": 7,
   "metadata": {},
   "outputs": [
    {
     "name": "stdout",
     "output_type": "stream",
     "text": [
      "Raw output shape: (96, 3025)\n"
     ]
    }
   ],
   "source": [
    "res_raw = np.dot(W_row, X_col)\n",
    "print \"Raw output shape: \" + repr(res_raw.shape)"
   ]
  },
  {
   "cell_type": "code",
   "execution_count": 8,
   "metadata": {},
   "outputs": [
    {
     "name": "stdout",
     "output_type": "stream",
     "text": [
      "Output shape: (55, 55, 96)\n"
     ]
    }
   ],
   "source": [
    "res = np.reshape(np.ravel(res_raw), (H2, W2, K))\n",
    "print \"Output shape: \" + repr(res.shape)"
   ]
  },
  {
   "cell_type": "markdown",
   "metadata": {},
   "source": [
    "### Pooling layers\n",
    "Pooling layers are commonly placed in between conv layers. It progressivly reduces the spatial size of the input, which in turn reduces the numebr of paramters and computations of the network. It reduces the chance of over-fitting.\n",
    "#### Maxpooling\n",
    "Maxpooling involves stride paramter S and receptive field F. The pooling layer operates independently on every depth slice of the input and resizes it sptially by taking the MAX within each receptive fields. \n",
    "\n",
    "Most commonly, people use filter size of $2 * 2$ and stride of 2. \n",
    "\n",
    "Following is an illustration of Maxpooling:\n",
    "\n",
    "![Maxpooling](http://cs231n.github.io/assets/cnn/maxpool.jpeg)\n",
    "\n",
    "#### Backpropagation\n",
    "For maxpooling, since the output only depend on the input that activated the max function, we can simply back prop by passing the gradient through that input. Therefore it is common to keep track of the index of those inputs. \n",
    "\n",
    "#### Summary\n",
    "For an input image size of (W1, H1, D1), receptive field F, stride S, we have the output sized \n",
    "1. $W2 = (W1 - F) / S + 1 $\n",
    "2. $H2 = (H1 - F) / S + 1$\n",
    "3. $D2 = D1$\n",
    "\n",
    "It is not common to use zero-padding.\n",
    "\n",
    "#### Implementation\n",
    "Similar to conv layers, we use im2col for maxpooling. "
   ]
  },
  {
   "cell_type": "code",
   "execution_count": 9,
   "metadata": {
    "collapsed": true
   },
   "outputs": [],
   "source": [
    "def maxpool_without_index(X, S, F):\n",
    "    # new size\n",
    "    assert X.shape[0] == X.shape[1]\n",
    "    W2 = (X.shape[0] - F) / S + 1\n",
    "    # depth\n",
    "    D = X.shape[2]\n",
    "    # X_col that's kept depth-independent\n",
    "    X_col = np.zeros((F * F, W2 * W2, X.shape[2]))\n",
    "    for d in range(D):\n",
    "        X_col_ind = 0\n",
    "        # slide the window\n",
    "        for i in range(W2):\n",
    "            for j in range(W2):\n",
    "                X_col[:, X_col_ind, d] = np.reshape(np.ravel(X[i*S:i*S+F, j*S:j*S+F, d]), (F * F))\n",
    "                X_col_ind += 1\n",
    "    # big matrix operation\n",
    "    X_max_pool = np.max(X_col, axis = 0)\n",
    "    X_max_pool = np.reshape(np.ravel(X_max_pool), (W2, W2, D))\n",
    "    return X_max_pool"
   ]
  },
  {
   "cell_type": "code",
   "execution_count": 10,
   "metadata": {
    "collapsed": true
   },
   "outputs": [],
   "source": [
    "X_max_pool = maxpool_without_index(res, 5, 5)"
   ]
  },
  {
   "cell_type": "code",
   "execution_count": 11,
   "metadata": {},
   "outputs": [
    {
     "name": "stdout",
     "output_type": "stream",
     "text": [
      "Output shape: (11, 11, 96)\n"
     ]
    }
   ],
   "source": [
    "print \"Output shape: \" + repr(X_max_pool.shape)"
   ]
  },
  {
   "cell_type": "markdown",
   "metadata": {},
   "source": [
    "### Fully connected layers\n",
    "Fully connected layers are in a way, special convolutional layers. For example, say we have input of $(256 * 256 * 200)$. We have, say, 20 kernal sized $(256 * 256 * 200)$ with stride 1, padding 0, and (of course) receptive field 256. Then such a kernal's convolution is the same of having full connection. The result would be $(1 * 1 * 20)$. "
   ]
  },
  {
   "cell_type": "code",
   "execution_count": 12,
   "metadata": {
    "collapsed": true
   },
   "outputs": [],
   "source": [
    "weights = np.random.rand(11, 11, 96, 200)\n",
    "kernal = im2row(weights)\n",
    "X_col = im2col(X_max_pool, 1, 11)\n",
    "res_raw = np.dot(kernal, X_col)\n",
    "res = np.reshape(np.ravel(res_raw), (1, 1, 200))"
   ]
  },
  {
   "cell_type": "code",
   "execution_count": 13,
   "metadata": {},
   "outputs": [
    {
     "name": "stdout",
     "output_type": "stream",
     "text": [
      "(200, 11616)\n",
      "(11616, 1)\n",
      "Output shape:(1, 1, 200)\n"
     ]
    }
   ],
   "source": [
    "print kernal.shape\n",
    "print X_col.shape\n",
    "print \"Output shape:\" + repr(res.shape)"
   ]
  },
  {
   "cell_type": "markdown",
   "metadata": {},
   "source": [
    "## Architecture\n",
    "### Layer Patterns\n",
    "Note: the RELU activation function is written as a layer, which applies elementwise non-linearity\n",
    "Common pattern:\n",
    "\n",
    "$INPUT -> [[CONV -> RELU]*N -> POOL?]*M -> [FC -> RELU]*K -> FC$\n",
    "\n",
    "where $N >= 0$ (and usually $N <= 3$), $M >= 0$, $K >= 0$ (and usually $K < 3$)\n",
    "\n",
    "We prefer a stack of small kernals to one large kernel. Since the former can express non-linear features with fewer parameters. \n",
    "\n",
    "### Layer Sizing Patterns\n",
    "Input layers are usually sized such that it's divisiable by 2. Common numbers include 32 (e.g. CIFAR-10), 64, 96 (e.g. STL-10), or 224 (e.g. common ImageNet ConvNets), 384, and 512.\n",
    "\n",
    "The conv layers should be using small filters (e.g. 3x3 or at most 5x5), using a stride of $S = 1$, and crucially, padding the input volume with zeros in such way that the conv layer does not alter the spatial dimensions of the input. That is, when $F = 3$, then using $P = 1$ will retain the original size of the input. Bigger sizes are common to see this on the very first conv layer that is looking at the input image.\n",
    "\n",
    "The pool layers are in charge of downsampling the spatial dimensions of the input. The most common setting is to use max-pooling with 2x2 receptive fields (i.e. $F = 2$), and with a stride of 2 (i.e. $S = 2$). \n",
    "\n",
    "### Other notes\n",
    "*Why use padding?* \n",
    "\n",
    "In addition to the aforementioned benefit of keeping the spatial sizes constant after CONV, doing this actually improves performance. If the CONV layers were to not zero-pad the inputs and only perform valid convolutions, then the size of the volumes would reduce by a small amount after each CONV, and the information at the borders would be “washed away” too quickly.\n",
    "\n",
    "*Compromising based on memory constraints*\n",
    "\n",
    "In some cases (especially early in the ConvNet architectures), the amount of memory can build up very quickly with the rules of thumb presented above. For example, filtering a 224x224x3 image with three 3x3 CONV layers with 64 filters each and padding 1 would create three activation volumes of size [224x224x64]. This amounts to a total of about 10 million activations, or 72MB of memory (per image, for both activations and gradients). Since GPUs are often bottlenecked by memory, it may be necessary to compromise. In practice, people prefer to make the compromise at only the first CONV layer of the network. For example, one compromise might be to use a first CONV layer with filter sizes of 7x7 and stride of 2 (as seen in a ZF net). As another example, an AlexNet uses filter sizes of 11x11 and stride of 4."
   ]
  },
  {
   "cell_type": "markdown",
   "metadata": {},
   "source": [
    "## Full Implementation"
   ]
  },
  {
   "cell_type": "code",
   "execution_count": 14,
   "metadata": {
    "collapsed": true
   },
   "outputs": [],
   "source": [
    "# make sure the debugging code doesn't get executed\n",
    "isDebugging = False"
   ]
  },
  {
   "cell_type": "code",
   "execution_count": 15,
   "metadata": {
    "collapsed": true
   },
   "outputs": [],
   "source": [
    "def zero_pad(X, P):\n",
    "    H = X.shape[0]\n",
    "    W = X.shape[1]\n",
    "    D = X.shape[2]\n",
    "    X = np.vstack((np.zeros((P,H,D)), X))\n",
    "    X = np.vstack((X, np.zeros((P,H,D))))\n",
    "    X = np.hstack((np.zeros((W + 2 * P, P,D)), X))\n",
    "    X = np.hstack((X, np.zeros((W + 2 * P, P,D))))\n",
    "    return X"
   ]
  },
  {
   "cell_type": "code",
   "execution_count": 16,
   "metadata": {
    "collapsed": true
   },
   "outputs": [],
   "source": [
    "def depad(X, P):\n",
    "    X = X[P:-P,P:-P,:]\n",
    "    return X"
   ]
  },
  {
   "cell_type": "code",
   "execution_count": 17,
   "metadata": {
    "collapsed": true
   },
   "outputs": [],
   "source": [
    "def get_new_size(W1, P, F, S):\n",
    "    return (W1 + 2.0 * P - F) / S + 1.0"
   ]
  },
  {
   "cell_type": "code",
   "execution_count": 18,
   "metadata": {
    "collapsed": true
   },
   "outputs": [],
   "source": [
    "def col2im(X_col, S, D):\n",
    "    assert np.sqrt(X_col.shape[0] / D) % 1 == 0\n",
    "    assert np.sqrt(X_col.shape[1]) % 1 == 0\n",
    "    \n",
    "    # calculate dims\n",
    "    F = int(np.sqrt(X_col.shape[0] / D))\n",
    "    W2 = int(np.sqrt(X_col.shape[1]))\n",
    "    W1 = (W2 - 1) * S + F\n",
    "    \n",
    "    X_recover = np.zeros((W1, W1, D))\n",
    "    \n",
    "    X_col_ind = 0\n",
    "    # slide the window\n",
    "    for i in range(W2):\n",
    "        for j in range(W2):\n",
    "            # in case of overlapping receptive fields, we accumulate rather than assign\n",
    "            X_recover[i*S:i*S+F, j*S:j*S+F, :] += np.reshape(np.ravel(X_col[:, X_col_ind]), (F, F, D))\n",
    "            X_col_ind += 1\n",
    "    return X_recover"
   ]
  },
  {
   "cell_type": "code",
   "execution_count": 19,
   "metadata": {
    "collapsed": true
   },
   "outputs": [],
   "source": [
    "def row2im(W_row, D):\n",
    "    F = np.sqrt(W_row.shape[1] / D)\n",
    "    assert F % 1 == 0\n",
    "    F = int(F)\n",
    "    K = W_row.shape[0]\n",
    "    W = np.zeros((F, F, D, K))\n",
    "    for k in range(K):\n",
    "        W[:,:,:,k] = np.reshape(W_row[k], (F, F, D))\n",
    "    return W"
   ]
  },
  {
   "cell_type": "code",
   "execution_count": 20,
   "metadata": {
    "collapsed": true
   },
   "outputs": [],
   "source": [
    "def convolve(X, W, S = 1, P = 0, auto_padding = False):\n",
    "    assert len(X.shape) == 3\n",
    "    assert len(W.shape) == 4\n",
    "    assert X.shape[2] == W.shape[2]\n",
    "    assert W.shape[0] == W.shape[1]\n",
    "    assert S > 0\n",
    "    assert P >= 0\n",
    "    \n",
    "    W1 = X.shape[0]\n",
    "    F = W.shape[0]\n",
    "    K = W.shape[3]\n",
    "    \n",
    "    # auto padding by incrementing P\n",
    "    if auto_padding:\n",
    "        P = 0\n",
    "        while not get_new_size(W1, P, F, S) % 1 == 0:\n",
    "            if P == W1:\n",
    "                print \"Warning: padding getting larger than input...\"\n",
    "            P += 1\n",
    "            \n",
    "    # non-auto-padding check\n",
    "    assert get_new_size(W1, P, F, S) % 1 == 0\n",
    "    \n",
    "    # zero padding\n",
    "    if P > 0:\n",
    "        X = zero_pad(X, P)\n",
    "    \n",
    "    # the new size\n",
    "    W2 = int(get_new_size(W1, P, F, S))\n",
    "    \n",
    "    # fast matrix stuff\n",
    "    X_col = im2col(X, S, F)\n",
    "    W_row = im2row(W)\n",
    "    res_raw = np.dot(W_row, X_col)\n",
    "    \n",
    "    # change aug 15: 18:55: reshape was doing the reshaping wrong...\n",
    "    res = np.zeros((W2, W2, K))\n",
    "    for k in range(K):\n",
    "        res[:,:,k] = np.reshape(np.ravel(res_raw[k]), (W2, W2))\n",
    "        \n",
    "    return res\n",
    "    "
   ]
  },
  {
   "cell_type": "code",
   "execution_count": 21,
   "metadata": {
    "collapsed": true
   },
   "outputs": [],
   "source": [
    "def deconvolve(X_conv, W, S):\n",
    "    assert len(X_conv.shape) == 3\n",
    "    assert len(W.shape) == 4\n",
    "    assert W.shape[0] == W.shape[1]\n",
    "    assert X_conv.shape[0] == X_conv.shape[1]\n",
    "    assert S > 0\n",
    "    \n",
    "    D = W.shape[2]\n",
    "    F = W.shape[0]\n",
    "    K = W.shape[3]\n",
    "    W2 = X_conv.shape[0]\n",
    "    \n",
    "    # fast matrix stuff\n",
    "    W_row = im2row(W)\n",
    "    # reshape it for deconvolve\n",
    "    X_conv_col_shaped = np.zeros((K, W2 * W2))\n",
    "    for k in range(K):\n",
    "        X_conv_col_shaped[k, :] = np.reshape(np.ravel(X_conv[:,:,k]), (W2 * W2))\n",
    "    X_col = np.dot(W_row.T, X_conv_col_shaped)\n",
    "    X_recover = col2im(X_col, S, D)\n",
    "    \n",
    "    return X_recover"
   ]
  },
  {
   "cell_type": "code",
   "execution_count": 22,
   "metadata": {
    "collapsed": true
   },
   "outputs": [],
   "source": [
    "def maxpool(X, S, F):\n",
    "    # new size\n",
    "    assert X.shape[0] == X.shape[1]\n",
    "    W2 = (X.shape[0] - F) / S + 1\n",
    "    # depth\n",
    "    D = X.shape[2]\n",
    "    # X_col that's kept depth-independent\n",
    "    X_col = np.zeros((F * F, W2 * W2, X.shape[2]))\n",
    "    for d in range(D):\n",
    "        X_col_ind = 0\n",
    "        # slide the window\n",
    "        for i in range(W2):\n",
    "            for j in range(W2):\n",
    "                X_col[:, X_col_ind, d] = np.reshape(np.ravel(X[i*S:i*S+F, j*S:j*S+F, d]), (F * F))\n",
    "                X_col_ind += 1\n",
    "    # big matrix operation\n",
    "    X_max_pool = np.max(X_col, axis = 0)\n",
    "    X_max_pool = np.reshape(np.ravel(X_max_pool), (W2, W2, D))\n",
    "    X_max_index = np.argmax(X_col, axis = 0)\n",
    "    X_col_max_recover = np.zeros_like(X_col)\n",
    "    \n",
    "    return X_max_pool, X_max_index, X_col_max_recover"
   ]
  },
  {
   "cell_type": "code",
   "execution_count": 23,
   "metadata": {
    "collapsed": true
   },
   "outputs": [],
   "source": [
    "def upsample(X_max_index, X_col_max_recover, S, outgrad):\n",
    "    assert np.sqrt(X_col_max_recover.shape[1]) == outgrad.shape[0]\n",
    "    assert np.sqrt(X_col_max_recover.shape[1]) == outgrad.shape[1]\n",
    "    assert X_col_max_recover.shape[2] == outgrad.shape[2]\n",
    "    \n",
    "    # calculate dimensions\n",
    "    F = np.sqrt(X_col_max_recover.shape[0])\n",
    "    assert F % 1 == 0\n",
    "    F = int(F)\n",
    "    \n",
    "    D = X_col_max_recover.shape[2]\n",
    "    W2 = outgrad.shape[0]\n",
    "    W1 = (W2 - 1) * S + F\n",
    "    \n",
    "    # flatten the gradients\n",
    "    outgrad = np.ravel(outgrad, (np.prod(outgrad.shape)))\n",
    "    \n",
    "    # put gradients in the correct position of the col vector\n",
    "    grad_idx = 0\n",
    "    for d in range(X_col_max_recover.shape[2]):\n",
    "        for i in range(X_col_max_recover.shape[1]):\n",
    "            X_col_max_recover[X_max_index[i, d], i, d] = outgrad[grad_idx]\n",
    "            grad_idx += 1\n",
    "    # recover the shape of X and put gradients at the correct spots\n",
    "    X_recover = np.zeros((W1, W1, D))\n",
    "    for d in range(D):\n",
    "        X_col_ind = 0\n",
    "        # slide the window\n",
    "        for j in range(W2):\n",
    "            for i in range(W2):\n",
    "                # in case of overlapping receptive fields, we accumulate rather than assign\n",
    "                X_recover[i*S:i*S+F, j*S:j*S+F, d] += np.reshape(np.ravel(X_col_max_recover[:, X_col_ind, d]), (F, F))\n",
    "                X_col_ind += 1\n",
    "    \n",
    "    return X_recover"
   ]
  },
  {
   "cell_type": "markdown",
   "metadata": {},
   "source": [
    "### Layers"
   ]
  },
  {
   "cell_type": "code",
   "execution_count": 24,
   "metadata": {
    "collapsed": true
   },
   "outputs": [],
   "source": [
    "class ConvolutionalLayer(object):\n",
    "    def __init__(self, W, b, S, P = 0):\n",
    "        self.W = W\n",
    "        self.S = S\n",
    "        self.P = P\n",
    "        self.F = W.shape[0]\n",
    "        self.b = b\n",
    "        self.param_grad = np.zeros_like(W)\n",
    "        self.bias_grad = np.zeros_like(b)\n",
    "        self.accum_count = 0\n",
    "        \n",
    "        # momentum\n",
    "        self.param_update = np.zeros_like(W)\n",
    "        self.bias_update = np.zeros_like(b)\n",
    "        \n",
    "        # adam\n",
    "        self.t = 0\n",
    "        self.w_m = np.zeros_like(W)\n",
    "        self.w_v = np.zeros_like(W)\n",
    "        self.b_m = np.zeros_like(b)\n",
    "        self.b_v = np.zeros_like(b)\n",
    "        \n",
    "        # check bias shape\n",
    "        assert len(self.b.shape) == 1\n",
    "        assert self.b.shape[0] == self.W.shape[3]\n",
    "        \n",
    "    def get_nb_of_params(self):\n",
    "        return np.prod(self.W.shape)\n",
    "    \n",
    "    def __str__(self):\n",
    "        return \"(Conv: \" + repr(self.get_nb_of_params()) + \")\"\n",
    "        \n",
    "    def forward(self, X):\n",
    "        #[K, F * F * D] * [F * F * D, W2 * W2] = [K, W2 * W2]\n",
    "        self.X = zero_pad(X, self.P)\n",
    "        return convolve(X, self.W, self.S, self.P) + self.b\n",
    "    \n",
    "    def backward(self, outgrad):\n",
    "        # for bp\n",
    "        res = deconvolve(outgrad, self.W, self.S)\n",
    "        res = depad(res, self.P)\n",
    "        # get param gradients\n",
    "        param_grad = self.get_param_grad(outgrad)\n",
    "        bias_grad = self.get_bias_grad(outgrad)\n",
    "        self.accumulate_grads(param_grad, bias_grad)\n",
    "        return res  \n",
    "    \n",
    "    def update_all(self, lr):\n",
    "        ''' \n",
    "        # gradient desecent\n",
    "        self.W -= self.param_grad * lr\n",
    "        self.b -= self.bias_grad * lr\n",
    "        '''\n",
    "        '''\n",
    "        # with momentum\n",
    "        global momentum\n",
    "        \n",
    "        param_momentum = self.param_update * momentum\n",
    "        b_momentum = self.bias_update * momentum\n",
    "        \n",
    "        self.param_update = - self.param_grad * lr + param_momentum\n",
    "        self.bias_update = - self.bias_grad * lr + b_momentum\n",
    "        \n",
    "        self.W += self.param_update \n",
    "        self.b += self.bias_update \n",
    "        '''\n",
    "        \n",
    "        # adam\n",
    "        global eps, beta_1, beta_2\n",
    "        self.t += 1\n",
    "        \n",
    "        self.param_grad /= self.accum_count\n",
    "        self.bias_grad /= self.accum_count\n",
    "        \n",
    "        # weights\n",
    "        self.w_m = beta_1 * self.w_m + (1 - beta_1) * self.param_grad\n",
    "        self.w_v = beta_2 * self.w_v + (1 - beta_2) * self.param_grad ** 2\n",
    "        w_m_corr = self.w_m / (1 - beta_1 ** self.t)\n",
    "        w_v_corr = self.w_v / (1 - beta_2 ** self.t)\n",
    "        # bias\n",
    "        self.b_m = beta_1 * self.b_m + (1 - beta_1) * self.bias_grad\n",
    "        self.b_v = beta_2 * self.b_v + (1 - beta_2) * self.bias_grad ** 2\n",
    "        b_m_corr = self.b_m / (1 - beta_1 ** self.t)\n",
    "        b_v_corr = self.b_v / (1 - beta_2 ** self.t)\n",
    "        # update\n",
    "        self.W = self.W - lr * w_m_corr / (np.sqrt(w_v_corr) + eps)\n",
    "        self.b = self.b - lr * b_m_corr / (np.sqrt(b_v_corr) + eps)\n",
    "        \n",
    "        self.reset_grads()\n",
    "        \n",
    "    def get_param_grad(self, outgrad):\n",
    "        X_col = im2col(self.X, self.S, self.F)\n",
    "        K = outgrad.shape[2]\n",
    "        W2 = outgrad.shape[0]\n",
    "        D = self.X.shape[2]\n",
    "        #outgrad = np.reshape(np.ravel(outgrad), (K, W2 * W2))\n",
    "        # reshape the outgrad for computation\n",
    "        outgrad_reshaped = np.zeros((K, W2 * W2))\n",
    "        for k in range(K):\n",
    "            outgrad_reshaped[k,:] = np.reshape(np.ravel(outgrad[:,:,k]), (W2 * W2))\n",
    "        param_grad = np.dot(outgrad_reshaped, X_col.T)\n",
    "        return row2im(param_grad, D) / (W2 ** 2)\n",
    "    \n",
    "    def get_bias_grad(self, outgrad):\n",
    "        W2 = outgrad.shape[0]\n",
    "        grad_axes = tuple(range(len(outgrad.shape)-1))\n",
    "        return np.sum(outgrad, axis = grad_axes) / (W2 ** 2)\n",
    "        \n",
    "    def accumulate_grads(self, param_grad, bias_grad):\n",
    "        self.param_grad += param_grad\n",
    "        self.bias_grad += bias_grad\n",
    "        self.accum_count += 1\n",
    "    \n",
    "    def reset_grads(self):\n",
    "        self.param_grad = np.zeros_like(self.W)\n",
    "        self.b_grad = np.zeros_like(self.b)\n",
    "        self.accum_count = 0"
   ]
  },
  {
   "cell_type": "code",
   "execution_count": 25,
   "metadata": {
    "collapsed": true
   },
   "outputs": [],
   "source": [
    "class MaxpoolingLayer(object):\n",
    "    def __init__(self, S, F):\n",
    "        self.S = S\n",
    "        self.F = F\n",
    "        \n",
    "    def get_nb_of_params(self):\n",
    "        return 0\n",
    "    \n",
    "    def __str__(self):\n",
    "        return \"(Maxpool)\"\n",
    "        \n",
    "    def forward(self, X):\n",
    "        mp, self.idx, self.rec = maxpool(X, self.S, self.F)\n",
    "        return mp\n",
    "    \n",
    "    def backward(self, outgrad):\n",
    "        return upsample(self.idx, self.rec, self.S, outgrad)\n",
    "    \n",
    "    def update_all(self, lr):\n",
    "        pass"
   ]
  },
  {
   "cell_type": "code",
   "execution_count": 26,
   "metadata": {
    "collapsed": true
   },
   "outputs": [],
   "source": [
    "class ReLU(object):\n",
    "    def get_nb_of_params(self):\n",
    "        return 0\n",
    "    \n",
    "    def __str__(self):\n",
    "        return \"(ReLU)\"\n",
    "    \n",
    "    def forward(self, X):\n",
    "        self.Y = np.maximum(X, 0.0)\n",
    "        return self.Y\n",
    "    \n",
    "    def backward(self, outgrad):\n",
    "        try:\n",
    "            assert (self.Y >= 0).all()\n",
    "        except:\n",
    "            print self.Y\n",
    "        assert self.Y.shape == outgrad.shape\n",
    "        \n",
    "        Y_step = np.minimum(np.ceil(self.Y), 1.0)\n",
    "        return np.multiply(outgrad, Y_step)\n",
    "    \n",
    "    def update_all(self, lr):\n",
    "        pass"
   ]
  },
  {
   "cell_type": "code",
   "execution_count": 27,
   "metadata": {
    "collapsed": true
   },
   "outputs": [],
   "source": [
    "class Leaky_ReLU(object):\n",
    "    def __init__(self):\n",
    "        self.leaky_slope = 0.1\n",
    "    \n",
    "    def get_nb_of_params(self):\n",
    "        return 0\n",
    "    \n",
    "    def __str__(self):\n",
    "        return \"(Leaky ReLU)\"\n",
    "    \n",
    "    def forward(self, X):\n",
    "        self.Y = np.maximum(X, self.leaky_slope * X)\n",
    "        return self.Y\n",
    "    \n",
    "    def backward(self, outgrad):\n",
    "        assert self.Y.shape == outgrad.shape\n",
    "        \n",
    "        Y_step = np.maximum(self.Y, 0.0)\n",
    "        Y_step = np.minimum(np.ceil(Y_step), 1.0)\n",
    "        Y_step *= 1.0 - self.leaky_slope\n",
    "        Y_step += self.leaky_slope\n",
    "        \n",
    "        return np.multiply(outgrad, Y_step)\n",
    "    \n",
    "    def update_all(self, lr):\n",
    "        pass"
   ]
  },
  {
   "cell_type": "code",
   "execution_count": 28,
   "metadata": {
    "collapsed": true
   },
   "outputs": [],
   "source": [
    "class FullyConnnectedLayer(object):\n",
    "    def __init__(self, W, b, S):\n",
    "        self.W = W\n",
    "        self.b = b\n",
    "        self.S = S\n",
    "        self.F = self.W.shape[0]\n",
    "        self.param_grad = np.zeros_like(W)\n",
    "        self.bias_grad = np.zeros_like(b)\n",
    "        self.accum_count = 0\n",
    "        \n",
    "        # momentum\n",
    "        self.param_update = np.zeros_like(W)\n",
    "        self.bias_update = np.zeros_like(b)\n",
    "        \n",
    "        # adam\n",
    "        self.t = 0\n",
    "        self.w_m = np.zeros_like(W)\n",
    "        self.w_v = np.zeros_like(W)\n",
    "        self.b_m = np.zeros_like(b)\n",
    "        self.b_v = np.zeros_like(b)\n",
    "        \n",
    "        # check bias shape\n",
    "        assert len(self.b.shape)\n",
    "        assert self.b.shape[0] == 1\n",
    "        \n",
    "        \n",
    "    def __str__(self):\n",
    "        return \"(FC: \" + repr(self.get_nb_of_params()) + \")\"\n",
    "    \n",
    "    def get_nb_of_params(self):\n",
    "        return np.prod(self.W.shape) + np.prod(self.b.shape)\n",
    "    \n",
    "    def forward(self, X):\n",
    "        assert self.W.shape[0:3] == X.shape[0:3]\n",
    "        self.X = X\n",
    "        return convolve(X, self.W, self.S) + self.b\n",
    "        \n",
    "    def backward(self, outgrad):\n",
    "        # for bp\n",
    "        res = deconvolve(outgrad, self.W, self.S)\n",
    "        # get param gradients\n",
    "        param_grad = self.get_param_grad(outgrad)\n",
    "        bias_grad = self.get_bias_grad(outgrad)\n",
    "        self.accumulate_grads(param_grad, bias_grad)\n",
    "        return res  \n",
    "    \n",
    "    def update_all(self, lr):\n",
    "        ''' \n",
    "        # gradient desecent\n",
    "        self.W -= self.param_grad * lr\n",
    "        self.b -= self.bias_grad * lr\n",
    "        '''\n",
    "        '''\n",
    "        # with momentum\n",
    "        global momentum\n",
    "        \n",
    "        param_momentum = self.param_update * momentum\n",
    "        b_momentum = self.bias_update * momentum\n",
    "        \n",
    "        self.param_update = - self.param_grad * lr + param_momentum\n",
    "        self.bias_update = - self.bias_grad * lr + b_momentum\n",
    "        \n",
    "        self.W += self.param_update \n",
    "        self.b += self.bias_update \n",
    "        '''\n",
    "        # adam\n",
    "        global eps, beta_1, beta_2\n",
    "        self.t += 1\n",
    "        \n",
    "        self.param_grad /= self.accum_count\n",
    "        self.bias_grad /= self.accum_count\n",
    "        \n",
    "        # weights\n",
    "        self.w_m = beta_1 * self.w_m + (1 - beta_1) * self.param_grad\n",
    "        self.w_v = beta_2 * self.w_v + (1 - beta_2) * self.param_grad ** 2\n",
    "        w_m_corr = self.w_m / (1 - beta_1 ** self.t)\n",
    "        w_v_corr = self.w_v / (1 - beta_2 ** self.t)\n",
    "        # bias\n",
    "        self.b_m = beta_1 * self.b_m + (1 - beta_1) * self.bias_grad\n",
    "        self.b_v = beta_2 * self.b_v + (1 - beta_2) * self.bias_grad ** 2\n",
    "        b_m_corr = self.b_m / (1 - beta_1 ** self.t)\n",
    "        b_v_corr = self.b_v / (1 - beta_2 ** self.t)\n",
    "        # update\n",
    "        self.W = self.W - lr * w_m_corr / (np.sqrt(w_v_corr) + eps)\n",
    "        self.b = self.b - lr * b_m_corr / (np.sqrt(b_v_corr) + eps)\n",
    "        \n",
    "        self.reset_grads()\n",
    "    \n",
    "    def get_param_grad(self, outgrad):\n",
    "        X_col = im2col(self.X, self.S, self.F)\n",
    "        K = outgrad.shape[2]\n",
    "        W2 = outgrad.shape[0]\n",
    "        D = self.X.shape[2]\n",
    "        #outgrad = np.reshape(np.ravel(outgrad), (K, W2 * W2))\n",
    "        # reshape the outgrad for computation\n",
    "        outgrad_reshaped = np.zeros((K, W2 * W2))\n",
    "        for k in range(K):\n",
    "            outgrad_reshaped[k,:] = np.reshape(np.ravel(outgrad[:,:,k]), (W2 * W2))\n",
    "        param_grad = np.dot(outgrad_reshaped, X_col.T)\n",
    "        return row2im(param_grad, D)\n",
    "    \n",
    "    def get_bias_grad(self, outgrad):\n",
    "        # there is only one bias, sum everything\n",
    "        return np.sum(outgrad)\n",
    "        \n",
    "    def accumulate_grads(self, param_grad, bias_grad):\n",
    "        self.param_grad += param_grad\n",
    "        self.bias_grad += bias_grad\n",
    "        self.accum_count += 1\n",
    "    \n",
    "    def reset_grads(self):\n",
    "        self.param_grad = np.zeros_like(self.W)\n",
    "        self.bias_grad = np.zeros_like(self.b)\n",
    "        self.accum_count = 0"
   ]
  },
  {
   "cell_type": "code",
   "execution_count": 29,
   "metadata": {
    "collapsed": true
   },
   "outputs": [],
   "source": [
    "class SoftmaxLayer(object):\n",
    "    def __str__(self):\n",
    "        return \"(Softmax)\"\n",
    "    \n",
    "    def get_nb_of_params(self):\n",
    "        return 0\n",
    "    \n",
    "    def forward(self, X):\n",
    "        return np.exp(X) / np.sum(np.exp(X), axis=2, keepdims=True)\n",
    "    \n",
    "    def backward(self, Y, T):\n",
    "        return Y - T\n",
    "    \n",
    "    def get_cost(self, Y, T):\n",
    "        return - np.multiply(T, np.log(Y)).sum()\n",
    "    \n",
    "    def update_all(self, lr):\n",
    "        pass"
   ]
  },
  {
   "cell_type": "markdown",
   "metadata": {},
   "source": [
    "### CNN"
   ]
  },
  {
   "cell_type": "code",
   "execution_count": 104,
   "metadata": {
    "collapsed": true
   },
   "outputs": [],
   "source": [
    "class ConvNet(object):\n",
    "    def __init__(self):\n",
    "        self.graph = [ConvolutionalLayer(np.random.uniform(-0.1, 0.1, (3, 3, 1, 10)), np.random.uniform(-0.1, 0.1, (10)), 1, 1),\\\n",
    "                      Leaky_ReLU(),\\\n",
    "                      ConvolutionalLayer(np.random.uniform(-0.1, 0.1, (3, 3, 10, 10)), np.random.uniform(-0.1, 0.1, (10)), 1, 1),\\\n",
    "                      Leaky_ReLU(),\\\n",
    "                      MaxpoolingLayer(2, 2),\\\n",
    "                      FullyConnnectedLayer(np.random.uniform(-0.1, 0.1, (4, 4, 10, 10)), np.random.uniform(-0.1, 0.1, (1)), 1), \\\n",
    "                      SoftmaxLayer()\n",
    "                    ]\n",
    "        \n",
    "        print \"Computation graph ready.\"\n",
    "        print \"\"\n",
    "      \n",
    "    def get_nb_of_params(self):\n",
    "        nb_of_params = 0\n",
    "        for n in self.graph:\n",
    "            nb_of_params += n.get_nb_of_params()\n",
    "        return nb_of_params\n",
    "    \n",
    "    def get_nb_of_layers(self):\n",
    "        return len(self.graph)\n",
    "    \n",
    "    def get_graph_repr(self):\n",
    "        res = \"(input)\"\n",
    "        for n in self.graph:\n",
    "            res += \"-->\" + str(n)\n",
    "        res += \"-->(output)\"\n",
    "        return res\n",
    "    \n",
    "    def forward(self, X):\n",
    "        Z = X\n",
    "        for n in self.graph:\n",
    "            Z = n.forward(Z)\n",
    "        return Z\n",
    "    \n",
    "    def get_cost(self, Y, T):\n",
    "        return self.graph[-1].get_cost(Y, T)\n",
    "    \n",
    "    def backward(self, Y, T):\n",
    "        Z = Y\n",
    "        for n in reversed(self.graph):\n",
    "            if str(n) == \"(Softmax)\":\n",
    "                Z = n.backward(Z, T)\n",
    "            else:\n",
    "                Z = n.backward(Z)\n",
    "        return Z\n",
    "    \n",
    "    def update_all(self, lr):\n",
    "        global momentum\n",
    "        momentum = 0.0\n",
    "        for n in self.graph:\n",
    "            n.update_all(lr)\n",
    "            \n",
    "    \n",
    "    def print_info(self):\n",
    "        print \"Total number of parameters: \" + repr(self.get_nb_of_params())\n",
    "        print \"Total number of layers: \" + repr(self.get_nb_of_layers())\n",
    "        print \"Graph: \" + repr(self.get_graph_repr())\n",
    "        "
   ]
  },
  {
   "cell_type": "code",
   "execution_count": 105,
   "metadata": {
    "scrolled": true
   },
   "outputs": [
    {
     "name": "stdout",
     "output_type": "stream",
     "text": [
      "Computation graph ready.\n",
      "\n",
      "Total number of parameters: 2591\n",
      "Total number of layers: 7\n",
      "Graph: '(input)-->(Conv: 90)-->(Leaky ReLU)-->(Conv: 900)-->(Leaky ReLU)-->(Maxpool)-->(FC: 1601)-->(Softmax)-->(output)'\n"
     ]
    }
   ],
   "source": [
    "conv = ConvNet()\n",
    "conv.print_info()"
   ]
  },
  {
   "cell_type": "markdown",
   "metadata": {},
   "source": [
    "### Try Dataset"
   ]
  },
  {
   "cell_type": "code",
   "execution_count": 106,
   "metadata": {
    "collapsed": true
   },
   "outputs": [],
   "source": [
    "from sklearn import datasets, model_selection, utils"
   ]
  },
  {
   "cell_type": "code",
   "execution_count": 107,
   "metadata": {
    "collapsed": true
   },
   "outputs": [],
   "source": [
    "digits = datasets.load_digits()\n",
    "T = np.zeros((digits.target.shape[0], 10))\n",
    "T[[np.arange(len(T))], digits.target] = 1\n",
    "X_train, X_test, T_train, T_test = model_selection.train_test_split(digits.data, T, test_size = 0.4)"
   ]
  },
  {
   "cell_type": "code",
   "execution_count": 108,
   "metadata": {},
   "outputs": [
    {
     "name": "stdout",
     "output_type": "stream",
     "text": [
      "(1078, 64)\n",
      "(719, 64)\n"
     ]
    }
   ],
   "source": [
    "print X_train.shape\n",
    "print X_test.shape"
   ]
  },
  {
   "cell_type": "code",
   "execution_count": 109,
   "metadata": {
    "collapsed": true
   },
   "outputs": [],
   "source": [
    "X_train = np.reshape(np.ravel(X_train),(X_train.shape[0], int(np.sqrt(X_train.shape[1])), int(np.sqrt(X_train.shape[1])), 1))\n",
    "T_train = np.reshape(np.ravel(T_train), (T_train.shape[0],1,1,T_train.shape[1]))"
   ]
  },
  {
   "cell_type": "code",
   "execution_count": 189,
   "metadata": {},
   "outputs": [
    {
     "name": "stdout",
     "output_type": "stream",
     "text": [
      "[[[ 0.  0.  0.  1.  0.  0.  0.  0.  0.  0.]]]\n"
     ]
    },
    {
     "data": {
      "image/png": "[encoded data removed]",
      "text/plain": [
       "<matplotlib.figure.Figure at 0x10d6defd0>"
      ]
     },
     "metadata": {},
     "output_type": "display_data"
    }
   ],
   "source": [
    "#print X[0]\n",
    "print T_train[120]\n",
    "plt.imshow(X_train[120, :, :, 0], cmap=\"gray\") \n",
    "plt.show()"
   ]
  },
  {
   "cell_type": "code",
   "execution_count": 111,
   "metadata": {},
   "outputs": [
    {
     "name": "stdout",
     "output_type": "stream",
     "text": [
      "2.28982872684\n"
     ]
    }
   ],
   "source": [
    "# initial error on the first sample\n",
    "y = conv.forward(X_train[0])\n",
    "print conv.get_cost(y, T_train[0])"
   ]
  },
  {
   "cell_type": "code",
   "execution_count": 112,
   "metadata": {
    "collapsed": true
   },
   "outputs": [],
   "source": [
    "costs = []"
   ]
  },
  {
   "cell_type": "code",
   "execution_count": 113,
   "metadata": {
    "collapsed": true
   },
   "outputs": [],
   "source": [
    "epoches = 23\n",
    "nb_of_mini_batch = 7\n",
    "mini_batch_size = X_train.shape[0] / nb_of_mini_batch"
   ]
  },
  {
   "cell_type": "code",
   "execution_count": 114,
   "metadata": {},
   "outputs": [
    {
     "name": "stderr",
     "output_type": "stream",
     "text": [
      "100%|██████████| 23/23 [03:53<00:00,  9.96s/it]\n"
     ]
    }
   ],
   "source": [
    "lr = 0.1\n",
    "global eps, beta_1, beta_2\n",
    "eps= 1e-8\n",
    "beta_1 = 0.9\n",
    "beta_2 = 0.99\n",
    "\n",
    "for e in tqdm(range(epoches)):\n",
    "    # iterate through mini batches\n",
    "    for i in range(nb_of_mini_batch):\n",
    "        costs.append([0])\n",
    "        # iterate through each sample in batch\n",
    "        for j in range(mini_batch_size):\n",
    "            idx = i * mini_batch_size + j\n",
    "            y = conv.forward(X_train[idx])\n",
    "            conv.backward(y, T_train[idx])\n",
    "            costs[-1] += conv.get_cost(y, T_train[idx])\n",
    "        # update new cost\n",
    "        costs[-1] /= mini_batch_size\n",
    "        '''\n",
    "        if i == 17:\n",
    "            plt.imshow(X_train[idx,:,:,0], cmap='gray')\n",
    "            plt.show()\n",
    "            print T_train[idx]\n",
    "            assert False\n",
    "        '''\n",
    "        # update params\n",
    "        conv.update_all(lr)\n",
    "    # regenerate training set\n",
    "    X_train, T_train = utils.shuffle(X_train, T_train, random_state=42)"
   ]
  },
  {
   "cell_type": "code",
   "execution_count": 115,
   "metadata": {},
   "outputs": [
    {
     "data": {
      "image/png": "[encoded data removed]",
      "text/plain": [
       "<matplotlib.figure.Figure at 0x10cefe050>"
      ]
     },
     "metadata": {},
     "output_type": "display_data"
    }
   ],
   "source": [
    "# plot learning curve\n",
    "plt.plot(costs, 'b-')\n",
    "plt.xlabel('itr')\n",
    "plt.ylabel('cost')\n",
    "plt.title('CNN Cost over time')\n",
    "plt.grid()\n",
    "plt.show()"
   ]
  },
  {
   "cell_type": "code",
   "execution_count": 116,
   "metadata": {},
   "outputs": [
    {
     "name": "stdout",
     "output_type": "stream",
     "text": [
      "0:\t8 <- 8 True\t0.999996772043\t<- 0.999996772043\n",
      "1:\t3 <- 3 True\t0.99928654352\t<- 0.99928654352\n",
      "2:\t9 <- 9 True\t1.0\t<- 1.0\n",
      "3:\t7 <- 7 True\t1.0\t<- 1.0\n",
      "4:\t3 <- 3 True\t0.999999999994\t<- 0.999999999994\n",
      "5:\t8 <- 8 True\t0.999959541082\t<- 0.999959541082\n",
      "6:\t2 <- 3 False\t0.88821932264\t<- 0.000252437774107\n",
      "7:\t8 <- 8 True\t0.999999999951\t<- 0.999999999951\n",
      "8:\t6 <- 6 True\t1.0\t<- 1.0\n",
      "9:\t6 <- 6 True\t1.0\t<- 1.0\n",
      "10:\t8 <- 8 True\t0.999999894846\t<- 0.999999894846\n",
      "11:\t1 <- 1 True\t0.999797530406\t<- 0.999797530406\n",
      "12:\t1 <- 1 True\t0.999999996364\t<- 0.999999996364\n",
      "13:\t2 <- 2 True\t1.0\t<- 1.0\n",
      "14:\t8 <- 8 True\t0.999701067788\t<- 0.999701067788\n",
      "15:\t4 <- 4 True\t1.0\t<- 1.0\n",
      "16:\t6 <- 6 True\t1.0\t<- 1.0\n",
      "17:\t1 <- 1 True\t0.999999994532\t<- 0.999999994532\n",
      "18:\t8 <- 8 True\t0.999999999893\t<- 0.999999999893\n",
      "19:\t2 <- 2 True\t1.0\t<- 1.0\n",
      "20:\t9 <- 9 True\t1.0\t<- 1.0\n",
      "21:\t7 <- 7 True\t1.0\t<- 1.0\n",
      "22:\t5 <- 5 True\t0.999999999886\t<- 0.999999999886\n",
      "23:\t7 <- 7 True\t1.0\t<- 1.0\n",
      "24:\t6 <- 6 True\t1.0\t<- 1.0\n",
      "25:\t5 <- 5 True\t1.0\t<- 1.0\n",
      "26:\t6 <- 6 True\t1.0\t<- 1.0\n",
      "27:\t8 <- 8 True\t0.999999991751\t<- 0.999999991751\n",
      "28:\t1 <- 1 True\t0.999999999999\t<- 0.999999999999\n",
      "29:\t1 <- 1 True\t0.999999999964\t<- 0.999999999964\n",
      "30:\t3 <- 3 True\t1.0\t<- 1.0\n",
      "31:\t5 <- 5 True\t1.0\t<- 1.0\n",
      "32:\t0 <- 0 True\t1.0\t<- 1.0\n",
      "33:\t6 <- 6 True\t1.0\t<- 1.0\n",
      "34:\t2 <- 2 True\t0.999999999978\t<- 0.999999999978\n",
      "35:\t8 <- 8 True\t0.999995644575\t<- 0.999995644575\n",
      "36:\t9 <- 9 True\t1.0\t<- 1.0\n",
      "37:\t4 <- 4 True\t0.999999687685\t<- 0.999999687685\n",
      "38:\t1 <- 1 True\t1.0\t<- 1.0\n",
      "39:\t5 <- 5 True\t0.99999999061\t<- 0.99999999061\n",
      "40:\t9 <- 9 True\t1.0\t<- 1.0\n",
      "41:\t1 <- 1 True\t1.0\t<- 1.0\n",
      "42:\t0 <- 0 True\t0.999658404509\t<- 0.999658404509\n",
      "43:\t8 <- 8 True\t0.999997571453\t<- 0.999997571453\n",
      "44:\t8 <- 8 True\t0.999838661977\t<- 0.999838661977\n",
      "45:\t6 <- 6 True\t0.968998673445\t<- 0.968998673445\n",
      "46:\t5 <- 5 True\t1.0\t<- 1.0\n",
      "47:\t3 <- 5 False\t0.997376329304\t<- 0.00262367069618\n",
      "48:\t3 <- 3 True\t0.999995355271\t<- 0.999995355271\n",
      "49:\t7 <- 7 True\t1.0\t<- 1.0\n",
      "50:\t6 <- 6 True\t1.0\t<- 1.0\n",
      "51:\t0 <- 0 True\t0.999999999629\t<- 0.999999999629\n",
      "52:\t8 <- 8 True\t0.999999999706\t<- 0.999999999706\n",
      "53:\t9 <- 9 True\t1.0\t<- 1.0\n",
      "54:\t4 <- 4 True\t1.0\t<- 1.0\n",
      "55:\t1 <- 1 True\t0.999999827148\t<- 0.999999827148\n",
      "56:\t1 <- 1 True\t0.999999999996\t<- 0.999999999996\n",
      "57:\t0 <- 0 True\t0.999999999975\t<- 0.999999999975\n",
      "58:\t5 <- 5 True\t1.0\t<- 1.0\n",
      "59:\t7 <- 7 True\t1.0\t<- 1.0\n",
      "60:\t9 <- 9 True\t1.0\t<- 1.0\n",
      "61:\t6 <- 0 False\t0.999846754373\t<- 0.000102948709249\n",
      "62:\t2 <- 2 True\t1.0\t<- 1.0\n",
      "63:\t3 <- 3 True\t0.986313451615\t<- 0.986313451615\n",
      "64:\t9 <- 9 True\t1.0\t<- 1.0\n",
      "65:\t6 <- 6 True\t1.0\t<- 1.0\n",
      "66:\t4 <- 4 True\t1.0\t<- 1.0\n",
      "67:\t5 <- 5 True\t1.0\t<- 1.0\n",
      "68:\t5 <- 5 True\t1.0\t<- 1.0\n",
      "69:\t8 <- 8 True\t0.999999057736\t<- 0.999999057736\n",
      "70:\t0 <- 0 True\t0.999997058504\t<- 0.999997058504\n",
      "71:\t5 <- 5 True\t1.0\t<- 1.0\n",
      "72:\t6 <- 6 True\t0.999999999998\t<- 0.999999999998\n",
      "73:\t0 <- 0 True\t0.999999999999\t<- 0.999999999999\n",
      "74:\t5 <- 5 True\t1.0\t<- 1.0\n",
      "75:\t3 <- 3 True\t1.0\t<- 1.0\n",
      "76:\t3 <- 3 True\t0.999999992715\t<- 0.999999992715\n",
      "77:\t4 <- 4 True\t1.0\t<- 1.0\n",
      "78:\t2 <- 2 True\t1.0\t<- 1.0\n",
      "79:\t9 <- 9 True\t1.0\t<- 1.0\n",
      "80:\t4 <- 4 True\t1.0\t<- 1.0\n",
      "81:\t9 <- 9 True\t0.999999999993\t<- 0.999999999993\n",
      "82:\t1 <- 1 True\t1.0\t<- 1.0\n",
      "83:\t0 <- 0 True\t0.999999986931\t<- 0.999999986931\n",
      "84:\t9 <- 9 True\t1.0\t<- 1.0\n",
      "85:\t9 <- 3 False\t0.99996155227\t<- 3.84477303685e-05\n",
      "86:\t0 <- 0 True\t1.0\t<- 1.0\n",
      "87:\t1 <- 1 True\t1.0\t<- 1.0\n",
      "88:\t5 <- 5 True\t0.999999996684\t<- 0.999999996684\n",
      "89:\t6 <- 6 True\t1.0\t<- 1.0\n",
      "90:\t3 <- 3 True\t0.999999999978\t<- 0.999999999978\n",
      "91:\t9 <- 9 True\t0.999999998103\t<- 0.999999998103\n",
      "92:\t7 <- 7 True\t1.0\t<- 1.0\n",
      "93:\t9 <- 9 True\t0.999999999999\t<- 0.999999999999\n",
      "94:\t8 <- 8 True\t0.969371846315\t<- 0.969371846315\n",
      "95:\t0 <- 0 True\t0.999999999993\t<- 0.999999999993\n",
      "96:\t7 <- 7 True\t1.0\t<- 1.0\n",
      "97:\t6 <- 6 True\t1.0\t<- 1.0\n",
      "98:\t8 <- 8 True\t0.999996630153\t<- 0.999996630153\n",
      "99:\t9 <- 9 True\t1.0\t<- 1.0\n"
     ]
    }
   ],
   "source": [
    "# first 150 samples\n",
    "idx = 150\n",
    "for idx in range(100):\n",
    "    act = conv.forward(X_train[idx])[0,0]\n",
    "    nn = np.argmax(act)\n",
    "    lab = np.argmax(T_train[idx,0,0])\n",
    "    print str(idx) + \":\\t\" + str(nn) + \" <- \" + str(lab) + \" \" + repr(nn == lab) + \"\\t\" + str(act[nn]) + \"\\t<- \" + str(act[lab])"
   ]
  },
  {
   "cell_type": "code",
   "execution_count": 174,
   "metadata": {
    "scrolled": false
   },
   "outputs": [
    {
     "data": {
      "image/png": "[encoded data removed]",
      "text/plain": [
       "<matplotlib.figure.Figure at 0x117f30990>"
      ]
     },
     "metadata": {},
     "output_type": "display_data"
    },
    {
     "data": {
      "image/png": "[encoded data removed]",
      "text/plain": [
       "<matplotlib.figure.Figure at 0x117f57910>"
      ]
     },
     "metadata": {},
     "output_type": "display_data"
    }
   ],
   "source": [
    "# the kernel looks like this\n",
    "filters = conv.graph[0].W.shape[-1]\n",
    "dims = conv.graph[0].W.shape[-2]\n",
    "\n",
    "fig = plt.figure(figsize=(dims, filters), dpi=50)\n",
    "plt.title(\"Filters\", size=20)\n",
    "for f in range(filters):\n",
    "    for d in range(dims):\n",
    "        ax = fig.add_subplot(filters,dims,f * dims + d+1)\n",
    "        ax.matshow(conv.graph[0].W[:, :, d, f], cmap='gray') \n",
    "        ax.axis('off')\n",
    "plt.show()\n",
    "\n",
    "\n",
    "filters = conv.graph[2].W.shape[-1]\n",
    "dims = conv.graph[2].W.shape[-2]\n",
    "\n",
    "fig = plt.figure(figsize=(dims, filters), dpi=50)\n",
    "plt.title(\"Filters\", size=20)\n",
    "for f in range(filters):\n",
    "    for d in range(dims):\n",
    "        ax = fig.add_subplot(filters,dims,f * dims + d+1)\n",
    "        ax.matshow(conv.graph[2].W[:, :, d, f], cmap='gray') \n",
    "        ax.axis('off')\n",
    "plt.show()"
   ]
  },
  {
   "cell_type": "code",
   "execution_count": 119,
   "metadata": {},
   "outputs": [
    {
     "name": "stdout",
     "output_type": "stream",
     "text": [
      "Min cost: 0.0191560978099\n",
      "Last cost:[ 0.39686244]\n"
     ]
    }
   ],
   "source": [
    "print \"Min cost: \" + str(np.min(costs))\n",
    "print \"Last cost:\" + str(costs[-1])"
   ]
  },
  {
   "cell_type": "markdown",
   "metadata": {},
   "source": [
    "### What does it looks like after each layer?"
   ]
  },
  {
   "cell_type": "code",
   "execution_count": 120,
   "metadata": {},
   "outputs": [
    {
     "name": "stdout",
     "output_type": "stream",
     "text": [
      "Total number of parameters: 2591\n",
      "Total number of layers: 7\n",
      "Graph: '(input)-->(Conv: 90)-->(Leaky ReLU)-->(Conv: 900)-->(Leaky ReLU)-->(Maxpool)-->(FC: 1601)-->(Softmax)-->(output)'\n",
      "None\n"
     ]
    }
   ],
   "source": [
    "print conv.print_info()"
   ]
  },
  {
   "cell_type": "code",
   "execution_count": 190,
   "metadata": {},
   "outputs": [
    {
     "data": {
      "image/png": "[encoded data removed]",
      "text/plain": [
       "<matplotlib.figure.Figure at 0x10d6bf450>"
      ]
     },
     "metadata": {},
     "output_type": "display_data"
    },
    {
     "data": {
      "image/png": "[encoded data removed]",
      "text/plain": [
       "<matplotlib.figure.Figure at 0x1064570d0>"
      ]
     },
     "metadata": {},
     "output_type": "display_data"
    },
    {
     "data": {
      "image/png": "[encoded data removed]",
      "text/plain": [
       "<matplotlib.figure.Figure at 0x105fc7c90>"
      ]
     },
     "metadata": {},
     "output_type": "display_data"
    },
    {
     "data": {
      "image/png": "[encoded data removed]",
      "text/plain": [
       "<matplotlib.figure.Figure at 0x10be08c50>"
      ]
     },
     "metadata": {},
     "output_type": "display_data"
    },
    {
     "data": {
      "image/png": "[encoded data removed]",
      "text/plain": [
       "<matplotlib.figure.Figure at 0x10c94e410>"
      ]
     },
     "metadata": {},
     "output_type": "display_data"
    },
    {
     "data": {
      "image/png": "[encoded data removed]",
      "text/plain": [
       "<matplotlib.figure.Figure at 0x117f22e10>"
      ]
     },
     "metadata": {},
     "output_type": "display_data"
    },
    {
     "data": {
      "image/png": "[encoded data removed]",
      "text/plain": [
       "<matplotlib.figure.Figure at 0x1063cbf90>"
      ]
     },
     "metadata": {},
     "output_type": "display_data"
    },
    {
     "data": {
      "image/png": "[encoded data removed]",
      "text/plain": [
       "<matplotlib.figure.Figure at 0x1122be290>"
      ]
     },
     "metadata": {},
     "output_type": "display_data"
    }
   ],
   "source": [
    "orginal = X_train[121]\n",
    "plt.imshow(orginal[:, :, 0], cmap=\"gray\")\n",
    "plt.title(\"input\")\n",
    "plt.show()\n",
    "\n",
    "conved = conv.graph[0].forward(orginal)\n",
    "# Plot\n",
    "size = conved.shape[-1]\n",
    "fig = plt.figure(figsize=(size, 1), dpi=100)\n",
    "for i in range(size):\n",
    "    ax = fig.add_subplot(1,size,i+1)\n",
    "    ax.matshow(conved[:, :, i], cmap='gray') \n",
    "    ax.axis('off')\n",
    "plt.title(\"Conv\")\n",
    "plt.show()\n",
    "\n",
    "relued = conv.graph[1].forward(conved)\n",
    "# Plot\n",
    "size = relued.shape[-1]\n",
    "fig = plt.figure(figsize=(size, 1), dpi=100)\n",
    "for i in range(size):\n",
    "    ax = fig.add_subplot(1,size,i+1)\n",
    "    ax.matshow(relued[:, :, i], cmap='gray') \n",
    "    ax.axis('off')\n",
    "plt.title(\"ReLU\")\n",
    "plt.show()\n",
    "\n",
    "conved = conv.graph[2].forward(relued)\n",
    "# Plot\n",
    "size = conved.shape[-1]\n",
    "fig = plt.figure(figsize=(size, 1), dpi=100)\n",
    "for i in range(size):\n",
    "    ax = fig.add_subplot(1,size,i+1)\n",
    "    ax.matshow(conved[:, :, i], cmap='gray') \n",
    "    ax.axis('off')\n",
    "plt.title(\"Conv\")\n",
    "plt.show()\n",
    "\n",
    "relued = conv.graph[3].forward(conved)\n",
    "# Plot\n",
    "size = relued.shape[-1]\n",
    "fig = plt.figure(figsize=(size, 1), dpi=100)\n",
    "for i in range(size):\n",
    "    ax = fig.add_subplot(1,size,i+1)\n",
    "    ax.matshow(relued[:, :, i], cmap='gray') \n",
    "    ax.axis('off')\n",
    "plt.title(\"ReLU\")\n",
    "plt.show()\n",
    "\n",
    "maxed = conv.graph[4].forward(relued)\n",
    "# Plot\n",
    "size = maxed.shape[-1]\n",
    "fig = plt.figure(figsize=(size, 1), dpi=100)\n",
    "for i in range(size):\n",
    "    ax = fig.add_subplot(1,size,i+1)\n",
    "    ax.matshow(maxed[:, :, i], cmap='gray') \n",
    "    ax.axis('off')\n",
    "plt.title(\"Maxpool\")\n",
    "plt.show()\n",
    "\n",
    "full = conv.graph[5].forward(maxed)\n",
    "plt.imshow(full[0, :, :], cmap=\"gray\")\n",
    "plt.title(\"FC\")\n",
    "plt.show()\n",
    "\n",
    "acted = conv.graph[6].forward(full)\n",
    "plt.imshow(acted[0, :, :], cmap=\"gray\")\n",
    "plt.title(\"Softmax\")\n",
    "plt.show()"
   ]
  },
  {
   "cell_type": "markdown",
   "metadata": {},
   "source": [
    "### INTENSE Hand debugging (no need to look further for studying purposes) "
   ]
  },
  {
   "cell_type": "code",
   "execution_count": 47,
   "metadata": {},
   "outputs": [
    {
     "ename": "AssertionError",
     "evalue": "",
     "output_type": "error",
     "traceback": [
      "\u001b[0;31m---------------------------------------------------------------------------\u001b[0m",
      "\u001b[0;31mAssertionError\u001b[0m                            Traceback (most recent call last)",
      "\u001b[0;32m<ipython-input-47-b9823701079c>\u001b[0m in \u001b[0;36m<module>\u001b[0;34m()\u001b[0m\n\u001b[0;32m----> 1\u001b[0;31m \u001b[0;32massert\u001b[0m \u001b[0misDebugging\u001b[0m\u001b[0;34m\u001b[0m\u001b[0m\n\u001b[0m",
      "\u001b[0;31mAssertionError\u001b[0m: "
     ]
    }
   ],
   "source": [
    "assert isDebugging"
   ]
  },
  {
   "cell_type": "markdown",
   "metadata": {},
   "source": [
    "#### conv layer"
   ]
  },
  {
   "cell_type": "code",
   "execution_count": null,
   "metadata": {
    "collapsed": true
   },
   "outputs": [],
   "source": [
    "in1 = np.array([5,6,0,8,9,0,0,0,0])\n",
    "in2 = np.array([5,4,0,2,1,0,0,0,0])"
   ]
  },
  {
   "cell_type": "code",
   "execution_count": null,
   "metadata": {
    "collapsed": true
   },
   "outputs": [],
   "source": [
    "k1 = - np.array(range(1,10))\n",
    "k2 = - np.array(range(9, 0, -1))\n",
    "b1 = 1\n",
    "b2 = 0"
   ]
  },
  {
   "cell_type": "code",
   "execution_count": null,
   "metadata": {
    "collapsed": true
   },
   "outputs": [],
   "source": [
    "print k1, k2"
   ]
  },
  {
   "cell_type": "code",
   "execution_count": null,
   "metadata": {
    "collapsed": true
   },
   "outputs": [],
   "source": [
    "print np.dot(k1, in1) + np.dot(k1, in2) + b1\n",
    "print np.dot(k2, in1) + np.dot(k2, in2) + b2"
   ]
  },
  {
   "cell_type": "markdown",
   "metadata": {},
   "source": [
    "#### Leaky ReLU"
   ]
  },
  {
   "cell_type": "markdown",
   "metadata": {},
   "source": [
    "#### Maxpool"
   ]
  },
  {
   "cell_type": "code",
   "execution_count": null,
   "metadata": {
    "collapsed": true
   },
   "outputs": [],
   "source": [
    "max_in1 = np.array([-27.9, -23.9, -15.9, -11.9])\n",
    "max_in2 = np.array([-12.0, -16.0, -24.0, -28.0])"
   ]
  },
  {
   "cell_type": "code",
   "execution_count": null,
   "metadata": {
    "collapsed": true
   },
   "outputs": [],
   "source": [
    "max_k1 = - np.array([0.02,0.04,0.06,0.08])\n",
    "max_k2 = - np.array([0.07,0.05,0.03,0.01])\n",
    "max_b = 1"
   ]
  },
  {
   "cell_type": "code",
   "execution_count": null,
   "metadata": {
    "collapsed": true
   },
   "outputs": [],
   "source": [
    "print max_k1, max_k2"
   ]
  },
  {
   "cell_type": "code",
   "execution_count": null,
   "metadata": {
    "collapsed": true
   },
   "outputs": [],
   "source": [
    "print np.dot(max_k1, max_in1) + np.dot(max_k1, max_in2) + max_b\n",
    "print np.dot(max_k2, max_in1) + np.dot(max_k2, max_in2) + max_b"
   ]
  },
  {
   "cell_type": "markdown",
   "metadata": {},
   "source": [
    "#### Softmax"
   ]
  },
  {
   "cell_type": "code",
   "execution_count": null,
   "metadata": {
    "collapsed": true
   },
   "outputs": [],
   "source": [
    "e1 = np.exp(8.98)\n",
    "e2 = np.exp(7.384)\n",
    "print e1, e2\n",
    "e12 = e1 + e2"
   ]
  },
  {
   "cell_type": "code",
   "execution_count": null,
   "metadata": {
    "collapsed": true
   },
   "outputs": [],
   "source": [
    "print e1 / e12\n",
    "print e2 / e12"
   ]
  },
  {
   "cell_type": "markdown",
   "metadata": {},
   "source": [
    "### backward"
   ]
  },
  {
   "cell_type": "markdown",
   "metadata": {},
   "source": [
    "#### softmax"
   ]
  },
  {
   "cell_type": "code",
   "execution_count": null,
   "metadata": {
    "collapsed": true
   },
   "outputs": [],
   "source": [
    "error  = [e1 / e12 - 0, e2 / e12 - 1]"
   ]
  },
  {
   "cell_type": "code",
   "execution_count": null,
   "metadata": {
    "collapsed": true
   },
   "outputs": [],
   "source": [
    "print error"
   ]
  },
  {
   "cell_type": "markdown",
   "metadata": {},
   "source": [
    "#### FC"
   ]
  },
  {
   "cell_type": "code",
   "execution_count": null,
   "metadata": {
    "collapsed": true
   },
   "outputs": [],
   "source": [
    "fc_in_grad_1 = max_k1 * error[0] + max_k2 * error[1]\n",
    "fc_in_grad_2 = max_k1 * error[0] + max_k2 * error[1]"
   ]
  },
  {
   "cell_type": "code",
   "execution_count": null,
   "metadata": {
    "collapsed": true
   },
   "outputs": [],
   "source": [
    "print fc_in_grad_1"
   ]
  },
  {
   "cell_type": "markdown",
   "metadata": {},
   "source": [
    "#### maxpool"
   ]
  },
  {
   "cell_type": "code",
   "execution_count": null,
   "metadata": {
    "collapsed": true
   },
   "outputs": [],
   "source": [
    "max_in_grad = np.array([[[0.04157293, 0.04157293], [0, 0], [0.00831459, 0.00831459]], [[0, 0],[0, 0],[0, 0]],[[-0.02494376, -0.02494376],[0, 0],[-0.0582021, -0.0582021]]])"
   ]
  },
  {
   "cell_type": "code",
   "execution_count": null,
   "metadata": {
    "collapsed": true
   },
   "outputs": [],
   "source": [
    "print max_in_grad[:,:,0]"
   ]
  },
  {
   "cell_type": "markdown",
   "metadata": {},
   "source": [
    "#### Leaky ReLU"
   ]
  },
  {
   "cell_type": "code",
   "execution_count": null,
   "metadata": {
    "collapsed": true
   },
   "outputs": [],
   "source": [
    "relu_grad = np.array([[[1.0, 1.0], [0, 0], [1.0, 1.0]], [[0, 0],[0, 0],[0, 0]],[[-0.1, -0.1],[0, 0],[-0.1, -0.1]]])"
   ]
  },
  {
   "cell_type": "code",
   "execution_count": null,
   "metadata": {
    "collapsed": true
   },
   "outputs": [],
   "source": [
    "print relu_grad[:,:,0]"
   ]
  },
  {
   "cell_type": "markdown",
   "metadata": {},
   "source": [
    "#### Conv"
   ]
  },
  {
   "cell_type": "markdown",
   "metadata": {},
   "source": [
    "## Machine run"
   ]
  },
  {
   "cell_type": "code",
   "execution_count": null,
   "metadata": {
    "collapsed": true
   },
   "outputs": [],
   "source": [
    "kernal_conv = np.array([[[[-1.0, -9.0],[-1.0, -9.0]],[[-2.0, -8.0],[-2.0, -8.0]],[[-3.0, -7.0],[-3.0, -7.0]]],[[[-4.0, -6.0],[-4.0, -6.0]],[[-5.0, -5.0],[-5.0, -5.0]],[[-6.0, -4.0],[-6.0, -4.0]]],[[[-7.0, -3.0],[-7.0, -3.0]],[[-8.0, -2.0],[-8.0, -2.0]],[[-9.0, -1.0],[-9.0, -1.0]]]])\n",
    "b_conv = np.array([1.0,0.0])\n",
    "kernal_fc = np.array([[[[-0.02, -0.07],[-0.02, -0.07]], [[-0.04, -0.05],[-0.04, -0.05]]], [[[-0.06, -0.03],[-0.06, -0.03]], [[-0.08, -0.01],[-0.08, -0.01]]]])\n",
    "b_fc = np.array([1.0])\n"
   ]
  },
  {
   "cell_type": "code",
   "execution_count": null,
   "metadata": {
    "collapsed": true
   },
   "outputs": [],
   "source": [
    "class ConvNetForDebugging(object):\n",
    "    def __init__(self):\n",
    "        self.graph = [ConvolutionalLayer(kernal_conv, b_conv, 1, 1),\\\n",
    "                      Leaky_ReLU(),\\\n",
    "                      MaxpoolingLayer(2, 1),\\\n",
    "                      FullyConnnectedLayer(kernal_fc, b_fc, 1), \\\n",
    "                      SoftmaxLayer()\n",
    "                    ]\n",
    "        \n",
    "        print \"Computation graph ready.\"\n",
    "        print \"\"\n",
    "      \n",
    "    def get_nb_of_params(self):\n",
    "        nb_of_params = 0\n",
    "        for n in self.graph:\n",
    "            nb_of_params += n.get_nb_of_params()\n",
    "        return nb_of_params\n",
    "    \n",
    "    def get_nb_of_layers(self):\n",
    "        return len(self.graph)\n",
    "    \n",
    "    def get_graph_repr(self):\n",
    "        res = \"(input)\"\n",
    "        for n in self.graph:\n",
    "            res += \"-->\" + str(n)\n",
    "        res += \"-->(output)\"\n",
    "        return res\n",
    "    \n",
    "    def forward(self, X):\n",
    "        Z = X\n",
    "        for n in self.graph:\n",
    "            Z = n.forward(Z)\n",
    "        return Z\n",
    "    \n",
    "    def get_cost(self, Y, T):\n",
    "        return self.graph[-1].get_cost(Y, T)\n",
    "    \n",
    "    def backward(self, Y, T):\n",
    "        Z = Y\n",
    "        for n in reversed(self.graph):\n",
    "            if str(n) == \"(Softmax)\":\n",
    "                Z = n.backward(Z, T)\n",
    "            else:\n",
    "                Z = n.backward(Z)\n",
    "        return Z\n",
    "    \n",
    "    def update_all(self, lr):\n",
    "        global momentum\n",
    "        momentum = 0.0\n",
    "        for n in self.graph:\n",
    "            n.update_all(lr)\n",
    "            \n",
    "    \n",
    "    def print_info(self):\n",
    "        print \"Total number of parameters: \" + repr(self.get_nb_of_params())\n",
    "        print \"Total number of layers: \" + repr(self.get_nb_of_layers())\n",
    "        print \"Graph: \" + repr(self.get_graph_repr())\n",
    "        "
   ]
  },
  {
   "cell_type": "code",
   "execution_count": null,
   "metadata": {
    "collapsed": true
   },
   "outputs": [],
   "source": [
    "conv_d = ConvNetForDebugging()"
   ]
  },
  {
   "cell_type": "code",
   "execution_count": null,
   "metadata": {
    "collapsed": true
   },
   "outputs": [],
   "source": [
    "in1 = np.array([1,2,3,4,5,6,7,8,9])\n",
    "in2 = np.array([9,8,7,6,5,4,3,2,1])"
   ]
  },
  {
   "cell_type": "code",
   "execution_count": null,
   "metadata": {
    "collapsed": true
   },
   "outputs": [],
   "source": [
    "in1 = np.reshape(in1, (3,3))\n",
    "in2 = np.reshape(in2, (3,3))\n",
    "in12 = np.dstack([in1, in2])"
   ]
  },
  {
   "cell_type": "code",
   "execution_count": null,
   "metadata": {
    "collapsed": true,
    "scrolled": true
   },
   "outputs": [],
   "source": [
    "conv_d.forward(in12)"
   ]
  },
  {
   "cell_type": "code",
   "execution_count": null,
   "metadata": {
    "collapsed": true
   },
   "outputs": [],
   "source": [
    "orginal = in12\n",
    "conved = conv_d.graph[0].forward(orginal)\n",
    "relued = conv_d.graph[1].forward(conved)\n",
    "maxed = conv_d.graph[2].forward(relued)\n",
    "full = conv_d.graph[3].forward(maxed)\n",
    "acted = conv_d.graph[4].forward(full)\n",
    "print acted"
   ]
  },
  {
   "cell_type": "code",
   "execution_count": null,
   "metadata": {
    "collapsed": true
   },
   "outputs": [],
   "source": [
    "T = np.array([[[0.0, 1.0]]])"
   ]
  },
  {
   "cell_type": "code",
   "execution_count": null,
   "metadata": {
    "collapsed": true
   },
   "outputs": [],
   "source": [
    "acted_e = conv_d.graph[4].backward(acted, T)\n",
    "full_e = conv_d.graph[3].backward(acted_e)\n",
    "maxed_e = conv_d.graph[2].backward(full_e)\n",
    "relued_e = conv_d.graph[1].backward(maxed_e)\n",
    "conved_e = conv_d.graph[0].backward(relued_e)"
   ]
  },
  {
   "cell_type": "code",
   "execution_count": null,
   "metadata": {
    "collapsed": true,
    "scrolled": false
   },
   "outputs": [],
   "source": [
    "print maxed_e[:,:,1]\n",
    "print relued_e[:,:,1]"
   ]
  }
 ],
 "metadata": {
  "kernelspec": {
   "display_name": "Python 2",
   "language": "python",
   "name": "python2"
  },
  "language_info": {
   "codemirror_mode": {
    "name": "ipython",
    "version": 2
   },
   "file_extension": ".py",
   "mimetype": "text/x-python",
   "name": "python",
   "nbconvert_exporter": "python",
   "pygments_lexer": "ipython2",
   "version": "2.7.12"
  }
 },
 "nbformat": 4,
 "nbformat_minor": 2
}
