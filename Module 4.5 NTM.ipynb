{
 "cells": [
  {
   "cell_type": "markdown",
   "metadata": {},
   "source": [
    "# Module 4.5 - Neural Turing Machines\n",
    "\n",
    "link to original post: https://blog.wtf.sg/2014/10/27/neural-turing-machines-a-first-look/\n",
    "\n",
    "link to original paper: https://arxiv.org/pdf/1410.5401.pdf\n",
    "\n",
    "##### Note: This is not a completed project: the forward pass is implemented compeletly, but the backward pass is still flawed. I will return to this project soon.\n",
    "\n",
    "## Introduction\n",
    "Neural Turing Machines were proposed by Google DeepMind in 2014. They speicalize in finding sequential patterns, like RNNs and LSTMs. \n",
    "\n",
    "## Theory\n",
    "### Architecture\n",
    "NTMs are consisted of two major compoents: a neural network controller and a memory bank. The controller interacts with in the input and produce output like common NNs, but in addition, they also interact with the memeory bank through read/write hands. On the highest level, they look like this: \n",
    "![NTM Architecture](https://blog.wtf.sg/wp-content/uploads/2014/10/Screenshot-from-2014-10-30-125035.png)\n",
    "\n",
    "### Memory Bank \n",
    "The memory bank is a matrix sized $(N * M)$. Where M_t is the content being focused on at time step t. \n",
    "\n",
    "### Reading\n",
    "Reading in NTMs are done in a differentiable fashion. In particular, they read blurrily. The read head emit a weight matrix at timestep t, w_t. The weights are normalized so all the elements sum to 1 and ranging (0,1). The *read column vector* (r_t) is the convex combination of w_t and M_t. \n",
    "\n",
    "### Writing\n",
    "The write head emits three vectors: a weight column vector (w_t), an erase row vector (e_t) and an add row vector (a_t). All three are in the range (0,1). \n",
    "\n",
    "The writing is consisted of two parts: an erase followed by an add. The steps are as follow: \n",
    "1. modify $M_t-1(i)$ by $M_t(i) ← M_t−1(i) * (1 − w_t(i) * e_t)$ where the multiplication is point wise.\n",
    "2. modify $M_t(i)$ by $M_t(i) ← M_t(i) + w_t(i) * a_t$\n",
    "\n",
    "The process of multiplying $w_t(i) * a_t$ and $w_t(i) * e_t$ can be intuitivly understood as: find some rows to focus on (where w(i) ~= 1.0) and change the content by $a_t$ and $e_t$. \n",
    "\n",
    "Notice, since both multiplication and addition are communitive, it doesn't matter if we have multiply write heads. Doing erasing at the same time nor does it matter if they are adding at the same time. \n",
    "\n",
    "### Reading and writing numpy implementation"
   ]
  },
  {
   "cell_type": "code",
   "execution_count": 1,
   "metadata": {},
   "outputs": [
    {
     "name": "stderr",
     "output_type": "stream",
     "text": [
      "/Users/macbook/miniconda2/lib/python2.7/site-packages/matplotlib/__init__.py:1120: UserWarning: Bad val \"$TEMPLATE_BACKEND\" on line #41\n",
      "\t\"backend      : $TEMPLATE_BACKEND\n",
      "\"\n",
      "\tin file \"/Users/macbook/.matplotlib/matplotlibrc\"\n",
      "\tKey backend: Unrecognized backend string \"$template_backend\": valid strings are [u'pgf', u'ps', u'Qt4Agg', u'GTK', u'GTKAgg', u'nbAgg', u'agg', u'cairo', u'MacOSX', u'GTKCairo', u'Qt5Agg', u'template', u'WXAgg', u'TkAgg', u'GTK3Cairo', u'GTK3Agg', u'svg', u'WebAgg', u'pdf', u'gdk', u'WX']\n",
      "  (val, error_details, msg))\n"
     ]
    },
    {
     "name": "stdout",
     "output_type": "stream",
     "text": [
      "Memory bank:\n",
      "[[ 1.  3.  1.  1.  1.  1.  1.]\n",
      " [ 1.  1.  1.  1.  9.  1.  1.]\n",
      " [ 1.  1.  1.  1.  1.  1.  2.]]\n",
      "\n",
      "read vector: \n",
      "array([[  3.,   5.,   3.,   3.,  11.,   3.,   4.]])\n",
      "\n",
      "Erased memory bank: \n",
      "array([[ 0.5,  1.5,  0.5,  0.5,  0.5,  0.5,  0.5],\n",
      "       [ 0.5,  0.5,  0.5,  0.5,  4.5,  0.5,  0.5],\n",
      "       [ 0.5,  0.5,  0.5,  0.5,  0.5,  0.5,  1. ]])\n",
      "\n",
      "Added memory bank: \n",
      "array([[ 1.5,  2.5,  1.5,  1.5,  1.5,  1.5,  1.5],\n",
      "       [ 1.5,  1.5,  1.5,  1.5,  5.5,  1.5,  1.5],\n",
      "       [ 1.5,  1.5,  1.5,  1.5,  1.5,  1.5,  2. ]])\n",
      "\n"
     ]
    }
   ],
   "source": [
    "import numpy as np\n",
    "from tqdm import tqdm\n",
    "import matplotlib.pyplot as plt  # Plotting library\n",
    "# Allow matplotlib to plot inside this notebook\n",
    "%matplotlib inline\n",
    "\n",
    "# memory bank\n",
    "M = np.ones((3,7))\n",
    "# add an unique signature to each row\n",
    "M[0,1] = 3\n",
    "M[1,4] = 9\n",
    "M[2,6] = 2\n",
    "\n",
    "print \"Memory bank:\"\n",
    "print M\n",
    "print \"\"\n",
    "\n",
    "# reading\n",
    "w_r = np.ones((3, 1))\n",
    "r = np.dot(w_r.T, M)\n",
    "print \"read vector: \\n\" + repr(r)\n",
    "print \"\"\n",
    "\n",
    "# writing\n",
    "# erase\n",
    "e = np.ones((1, 7)) * 0.5\n",
    "w_w = np.ones((3, 1))\n",
    "M_tel = np.multiply(M, (1 - np.dot(w_w, e)))\n",
    "print \"Erased memory bank: \\n\" + repr(M_tel)\n",
    "print \"\"\n",
    "\n",
    "# add\n",
    "a = np.ones((1, 7))\n",
    "M = M_tel + np.dot(w_w, a)\n",
    "print \"Added memory bank: \\n\" + repr(M)\n",
    "print \"\""
   ]
  },
  {
   "cell_type": "markdown",
   "metadata": {},
   "source": [
    "### Addressing Mechanisms\n",
    "Addressing help us to produce the weight vectors as described above. I will call those paramters that determine the addressing weightings \"configs\", and those weightings simply by \"weightings\".\n",
    "\n",
    "#### Content-addressing\n",
    "For each head: \n",
    "1. Produce a M-long key vector, $k_t$ and $beta_t$ (key-strength).\n",
    "2. Calculate the similiarities between the key and the memory matrix.\n",
    "3. Multiply similiarities with $beta_t$.\n",
    "3. Normalize the similiarities to produce content weight column vector $w^c_t$."
   ]
  },
  {
   "cell_type": "code",
   "execution_count": 2,
   "metadata": {
    "collapsed": true
   },
   "outputs": [],
   "source": [
    "def sim(a, b):\n",
    "    # check for same length vectors\n",
    "    assert len(a.shape) == 1\n",
    "    assert len(b.shape) == 1\n",
    "    assert a.shape[0] == b.shape[0]\n",
    "    # L2\n",
    "    a_bar = np.linalg.norm(a, ord = 2)\n",
    "    b_bar = np.linalg.norm(b, ord = 2)\n",
    "    # for computation stablility\n",
    "    eps = 1e-10\n",
    "    return np.dot(a, b) / (eps + a_bar * b_bar)\n",
    "\n",
    "def softmax(z):\n",
    "    return np.exp(z) / np.sum(np.exp(z), axis=0, keepdims=True)\n",
    "\n",
    "def softplus(z):\n",
    "    return np.log(np.exp(z) + 1.0) + 1.0\n",
    "\n",
    "def sigmoid(z):\n",
    "    return 1.0 / (1.0 + np.exp(-z))"
   ]
  },
  {
   "cell_type": "code",
   "execution_count": 3,
   "metadata": {},
   "outputs": [
    {
     "name": "stdout",
     "output_type": "stream",
     "text": [
      "Memory bank:\n",
      "[[ 1.5  2.5  1.5  1.5  1.5  1.5  1.5]\n",
      " [ 1.5  1.5  1.5  1.5  5.5  1.5  1.5]\n",
      " [ 1.5  1.5  1.5  1.5  1.5  1.5  2. ]]\n",
      "\n",
      "Key vector: \n",
      "array([ 1.,  1.,  1.,  1.,  1.,  1.,  3.])\n"
     ]
    }
   ],
   "source": [
    "k = np.ones((7))\n",
    "k[6] = 3\n",
    "beta = 10\n",
    "\n",
    "print \"Memory bank:\"\n",
    "print M\n",
    "print \"\"\n",
    "print \"Key vector: \\n\" + repr(k)"
   ]
  },
  {
   "cell_type": "code",
   "execution_count": 4,
   "metadata": {},
   "outputs": [
    {
     "name": "stdout",
     "output_type": "stream",
     "text": [
      "Content Weight: \n",
      "array([[ 0.28527786],\n",
      "       [ 0.0579956 ],\n",
      "       [ 0.65672653]])\n"
     ]
    }
   ],
   "source": [
    "w_c = np.zeros((M.shape[0], 1))\n",
    "for n in range(M.shape[0]):\n",
    "    w_c[n] = sim(k, M[n, :]) * beta\n",
    "w_c = softmax(w_c)\n",
    "print \"Content Weight: \\n\" + repr(w_c)"
   ]
  },
  {
   "cell_type": "markdown",
   "metadata": {},
   "source": [
    "#### Pre Location-addressing: interpolation gate\n",
    "Now the network will decide wether to use the last set of weights or use the current content weights, or in other words, wether to location address or content address.\n",
    "\n",
    "Each head will produce a scalar interpolation gate $g_t$ ranging $(0,1)$. If the gate is close to 1.0, the content vector will be used, otherwise the last weight will be used. However, it is done in a blending fashion. The output is the gated weights: $w^g_t$."
   ]
  },
  {
   "cell_type": "code",
   "execution_count": 5,
   "metadata": {},
   "outputs": [
    {
     "name": "stdout",
     "output_type": "stream",
     "text": [
      "Gated Weights: \n",
      "array([[ 0.4996945 ],\n",
      "       [ 0.34059692],\n",
      "       [ 0.75970857]])\n"
     ]
    }
   ],
   "source": [
    "# use the write head as example\n",
    "g_t = 0.7\n",
    "w_g = g_t * w_c + (1.0 - g_t) * w_w\n",
    "print \"Gated Weights: \\n\" + repr(w_g)"
   ]
  },
  {
   "cell_type": "markdown",
   "metadata": {},
   "source": [
    "#### Location-addressing: circular convolution\n",
    "This is perhaps the hardest part of the model. It goes as following: \n",
    "\n",
    "For each head:\n",
    "1. emit shift weighting $s_t$, which defines a normalised distribution over the allowed integer shifts. For example, if shifts between $-1$ and $1$ are allowed, $s_t$ has three elements corresponding to the degree to which shifts of $-1$, $0$ and $1$ are performed.\n",
    "2. The convoluted weights are calculated (see code)."
   ]
  },
  {
   "cell_type": "code",
   "execution_count": 6,
   "metadata": {},
   "outputs": [
    {
     "name": "stdout",
     "output_type": "stream",
     "text": [
      "Shift weighting: \n",
      "array([[ 0.],\n",
      "       [ 1.],\n",
      "       [ 0.]])\n"
     ]
    }
   ],
   "source": [
    "# shift by each index corrosponds to shifting by 0, 1, and -1\n",
    "s = np.array([[0.0, 1.0, 0.0]]).T\n",
    "print \"Shift weighting: \\n\" + repr(s)"
   ]
  },
  {
   "cell_type": "code",
   "execution_count": 7,
   "metadata": {},
   "outputs": [
    {
     "name": "stdout",
     "output_type": "stream",
     "text": [
      "Shifted weights: \n",
      "array([[ 0.75970857],\n",
      "       [ 0.4996945 ],\n",
      "       [ 0.34059692]])\n"
     ]
    }
   ],
   "source": [
    "w_cc = np.zeros_like(w_g)\n",
    "N = w_g.shape[0]\n",
    "# circular convolution\n",
    "for i in range(N):\n",
    "    for j in range(N):\n",
    "        w_cc[i] += w_g[j % N] * s[(i - j) % N]\n",
    "print \"Shifted weights: \\n\" + repr(w_cc)"
   ]
  },
  {
   "cell_type": "markdown",
   "metadata": {},
   "source": [
    "#### Sharpening\n",
    "Finally, in case of leakage, or in other words, when the weights are spread over, we can sharpen them and make them more focused on one location. \n",
    "\n",
    "The process is similiar to softmax, but instead of exp function, it uses a scalar emitted by each head $gamma_t$ as exponets, where $gamma_t > 1$"
   ]
  },
  {
   "cell_type": "code",
   "execution_count": 8,
   "metadata": {
    "collapsed": true
   },
   "outputs": [],
   "source": [
    "def sharpen(z, gamma):\n",
    "    return np.power(z, gamma) / np.sum(np.power(z, gamma), axis=0, keepdims=True)"
   ]
  },
  {
   "cell_type": "code",
   "execution_count": 9,
   "metadata": {},
   "outputs": [
    {
     "name": "stdout",
     "output_type": "stream",
     "text": [
      "Weight: \n",
      "array([[ 0.87625486],\n",
      "       [ 0.10787434],\n",
      "       [ 0.0158708 ]])\n"
     ]
    }
   ],
   "source": [
    "gamma = 5\n",
    "w = sharpen(w_cc, gamma)\n",
    "print \"Weight: \\n\" + repr(w)"
   ]
  },
  {
   "cell_type": "markdown",
   "metadata": {},
   "source": [
    "### The Three Modes of Addressing\n",
    "The combined addressing system of weighting interpolation and content and locationbased\n",
    "addressing can operate in three complementary modes. \n",
    "* One, pure content: a weighting can be chosen by the content system without any modification by the location system. \n",
    "* Two, random access: a weighting produced by the content addressing system can be chosen and then shifted. This allows the focus to jump to a location next to, but not on, an address accessed by content; in computational terms this allows a head to find a contiguous block of data, then access a particular element within that block. \n",
    "* Three, iterative access: weighting from the previous time step can be rotated without any input from the content-based addressing system. This allows the weighting to iterate through a sequence of addresses by advancing the same distance at each time-step."
   ]
  },
  {
   "cell_type": "markdown",
   "metadata": {},
   "source": [
    "## Full Implementation\n",
    "### Memory Matrix\n",
    "The memory matrix is sized $(N * M)$ and initialized to all 0s."
   ]
  },
  {
   "cell_type": "code",
   "execution_count": 10,
   "metadata": {
    "collapsed": true
   },
   "outputs": [],
   "source": [
    "class MemoryMatrix(object):\n",
    "    def __init__(self, N, M, random_init = False):\n",
    "        self.N = N\n",
    "        self.M = M\n",
    "        if random_init:\n",
    "            self.matrix = softmax(np.random.rand(M, N)).T\n",
    "        else:\n",
    "            self.matrix = np.zeros((N, M))\n",
    "            \n",
    "        self.grad = np.zeros_like(self.matrix)\n",
    "        self.matrices = []\n",
    "            \n",
    "    def archive(self):\n",
    "        self.matrices.append(np.copy(self.matrix))\n",
    "        \n",
    "    def get_last_archive(self):\n",
    "        return self.matrices[-1]\n",
    "    \n",
    "    def pop(self):\n",
    "        # make sure we have enough time crystals to time travel\n",
    "        assert len(self.matrices) > 0\n",
    "        return self.matrices.pop()\n",
    "    \n",
    "    def save_gradient(self, grad):\n",
    "        assert self.grad.shape == self.matrix.shape\n",
    "        self.grad += grad\n",
    "        \n",
    "    def get_gradient(self):\n",
    "        return self.grad\n",
    "    \n",
    "    def clear_grad(self):\n",
    "        self.grad = np.zeros_like(self.matrix)\n",
    "        \n",
    "    def clear_archive(self):\n",
    "        self.matrices = []"
   ]
  },
  {
   "cell_type": "markdown",
   "metadata": {},
   "source": [
    "### Heads\n",
    "Although the paper defined a \"head\" as the outputs of the controller network, it also seem appropriate if we extent their roles a bit. In particular, I think the job of calculating read vecctors and writing operations should be their role, too."
   ]
  },
  {
   "cell_type": "code",
   "execution_count": 11,
   "metadata": {},
   "outputs": [],
   "source": [
    "class Head(object):\n",
    "    def __init__(self, memory_matrix, W_init):\n",
    "        self.matrix = memory_matrix.matrix\n",
    "        self.N = memory_matrix.N\n",
    "        self.M = memory_matrix.M\n",
    "        self.W = W_init\n",
    "        \n",
    "        ##### for backward prop #####\n",
    "        self.weightings = []\n",
    "        self.configs = []\n",
    "        \n",
    "    \n",
    "    def calculate_weights(self, K_hat, S_hat, g_hat, beta_hat, gamma_hat, e = None, a = None):\n",
    "        ##### calculate and save forward pass varibles here #####\n",
    "        self.K = K_hat\n",
    "        self.S = softmax(S_hat)\n",
    "        self.g = sigmoid(g_hat)\n",
    "        self.beta = np.exp(beta_hat)\n",
    "        self.gamma = softplus(gamma_hat)\n",
    "        # these are only for write vectors\n",
    "        self.a = a\n",
    "        self.e = e\n",
    "        \n",
    "        ##### do forward calculation here #####\n",
    "        w_c, sims = self.get_content_weightings()\n",
    "        \n",
    "        w_g = self.get_gated_weightings(w_c)\n",
    "        w_s = self.get_shift_weightings(w_g)\n",
    "        w = self.get_sharpened_weightings(w_s)\n",
    "        self.W = w\n",
    "        \n",
    "        ##### save weightings and configs for backprop #####\n",
    "        ## pack ##\n",
    "        weighting = (w_c, w_g, w_s, sims)\n",
    "        config = (self.K, self.S, self.g, self.beta, self.gamma)\n",
    "        ## save ##\n",
    "        self.weightings.append(weighting)\n",
    "        self.configs.append(config)\n",
    "    \n",
    "    # use weighting gradients to calculate config gradients\n",
    "    def get_config_grad(self, w_grad, matrix):\n",
    "        \n",
    "        ## retrive the variables for back prop ##\n",
    "        #assert len(self.weightings) > 1\n",
    "        #assert len(self.configs) > 1\n",
    "        w_c, w_g, w_s, sims = self.weightings.pop()\n",
    "        K, S, g, beta, gamma = self.configs.pop()\n",
    "        \n",
    "        ##### do backward calculation here #####\n",
    "        w_s_grad, gamma_grad = self.backprop_sharpened_weightings(w_grad, w_s, gamma)\n",
    "        w_g_grad, S_grad = self.backprop_shift_weightings(w_s_grad, w_g, S)\n",
    "        w_c_grad, g_grad = self.backprop_gated_weightings(w_g_grad, w_c, g)\n",
    "        K_grad, beta_grad = self.backprop_content_weightings(w_c_grad, beta, K, sims, matrix)\n",
    "        \n",
    "        # make sure shapes stay consistant\n",
    "        assert K_grad.shape == K.shape\n",
    "        assert S_grad.shape == S.shape\n",
    "        \n",
    "        return np.hstack([K_grad, S_grad, beta_grad, gamma_grad, g_grad])\n",
    "            \n",
    "    ##### helper methods #####\n",
    "    ## content: forward and backward pair ##\n",
    "    def get_content_weightings(self):\n",
    "        \n",
    "        assert len(self.K.shape) == 1\n",
    "        assert self.K.shape[0] == self.M\n",
    "        \n",
    "        w_c = np.zeros((self.N, 1))\n",
    "        sims = np.zeros((self.N, 1))\n",
    "        \n",
    "        for n in range(N):\n",
    "            sims[n] = sim(self.K, self.matrix[n, :])\n",
    "            w_c[n] = sims[n] * self.beta\n",
    "        w_c = self.softmax(w_c)\n",
    "        \n",
    "        return w_c, sims\n",
    "    \n",
    "    def backprop_content_weightings(self, outgrad, beta, K, sims, matrix):\n",
    "        ### calculate the softmax derivative\n",
    "        exp_term = np.exp(sims * beta)\n",
    "        sum_term = np.sum(exp_term)\n",
    "        power_term = exp_term ** 2\n",
    "        power_sum_term = sum_term ** 2\n",
    "        softmax_deriv = (exp_term * sum_term - power_term) / power_sum_term\n",
    "        \n",
    "        beta_grad = np.sum(np.multiply(outgrad, np.multiply(sims, softmax_deriv)))\n",
    "        sims_grad = np.multiply(outgrad, beta * softmax_deriv)\n",
    "        \n",
    "        ##### WARNING: I'm not going to calculate the matrix gradient\n",
    "        ##### WARNING: I'm going to use the lowest error to determine the error on the key\n",
    "        K_grad = K - matrix[np.argmin(sims_grad)]\n",
    "        \n",
    "        return K_grad, beta_grad\n",
    "    \n",
    "    ## gate: forward and backward pair ##\n",
    "    def get_gated_weightings(self, w_c):\n",
    "        \n",
    "        assert self.W.shape == w_c.shape\n",
    "        \n",
    "        w_g = self.g * w_c + (1.0 - self.g) * self.W\n",
    "        return w_g\n",
    "    \n",
    "    def backprop_gated_weightings(self, outgrad, w_c, g):\n",
    "        ##### WARNING: I'm not going to propagate error to the past weightings #####\n",
    "        ## I think some information will be lost here, but not ALL will be lost. \n",
    "        ## As long as the error on the gate config is passed back, I believe the model\n",
    "        ## will eventually converge. \n",
    "        w_c_grad = outgrad / g\n",
    "        g_grad = np.sum(outgrad / w_c)\n",
    "        \n",
    "        return w_c_grad, g_grad\n",
    "    \n",
    "    ## shift: forward and backward pair ##\n",
    "    def get_shift_weightings(self, w_g):\n",
    "        w_s = np.zeros_like(w_g)\n",
    "        # circular convolution\n",
    "        for i in range(self.N):\n",
    "            for j in range(self.N):\n",
    "                w_s[i] += w_g[j % self.N] * self.S[(i - j) % self.N]\n",
    "        return w_s\n",
    "\n",
    "    def backprop_shift_weightings(self, outgrad, w_g, S):\n",
    "        ### since shift configs are shifted at each row calculation\n",
    "        ##  let's shift them first\n",
    "        S_shifted = np.zeros((S.shape[0], S.shape[0]))\n",
    "        for i in range(S.shape[0]):\n",
    "            S_shifted[i] = np.roll(S, i)\n",
    "        w_g_grad = np.dot(S_shifted.T, outgrad)\n",
    "        \n",
    "        S_shifted_grad = np.dot(outgrad, w_g.T)\n",
    "        ## now roll the grads back to original shape\n",
    "        for i in range(S.shape[0]):\n",
    "            S_shifted[i] = np.roll(S_shifted[i], -i)\n",
    "            \n",
    "        S_grad = np.sum(S_shifted, axis = 0)\n",
    "        \n",
    "        return w_g_grad, S_grad\n",
    "        \n",
    "    ## sharpen: forward and backward pair ##\n",
    "    def get_sharpened_weightings(self, w_s):\n",
    "        w = self.sharpen(w_s, self.gamma)\n",
    "        return w\n",
    "    \n",
    "    def backprop_sharpened_weightings(self, outgrad, w_s, gamma):\n",
    "        ##### sharpen function's derivative terms #####\n",
    "        power_term = np.power(w_s, gamma)\n",
    "        power_sum_term = np.sum(power_term, axis=0, keepdims=True)\n",
    "        log_term = np.log(w_s)\n",
    "        log_sum_term = np.sum(log_term, axis=0, keepdims=True)\n",
    "        log_diff_term = log_term - log_sum_term\n",
    "        \n",
    "        ### getting the backprop grad\n",
    "        w_s_deriv = (power_sum_term - power_term) / (power_sum_term ** 2)\n",
    "        # chain rule\n",
    "        w_s_grad = np.multiply(outgrad, w_s_deriv)\n",
    "\n",
    "        ### getting the gamma grad\n",
    "        beta_grad = np.sum(np.multiply(outgrad, np.multiply(power_term, log_diff_term) / power_sum_term))\n",
    "        \n",
    "        return w_s_grad, beta_grad\n",
    "    \n",
    "    \n",
    "    ##### utils #####\n",
    "    def sim(self, a, b):\n",
    "        # check for same length vectors\n",
    "        assert len(a.shape) == 1\n",
    "        assert len(b.shape) == 1\n",
    "        assert a.shape[0] == b.shape[0]\n",
    "        # L2\n",
    "        a_bar = np.linalg.norm(a, ord = 2)\n",
    "        b_bar = np.linalg.norm(b, ord = 2)\n",
    "        # for computation stablility\n",
    "        eps = 1e-10\n",
    "        return np.dot(a, b) / (0.0 + a_bar * b_bar)\n",
    "    \n",
    "    def softmax(self, z):\n",
    "        return np.exp(z) / np.sum(np.exp(z), axis=0, keepdims=True)\n",
    "    \n",
    "    def sharpen(self, z, gamma):\n",
    "        return np.power(z, gamma) / np.sum(np.power(z, gamma), axis=0, keepdims=True)"
   ]
  },
  {
   "cell_type": "markdown",
   "metadata": {},
   "source": [
    "### Read Heads and Write Heads\n",
    "We will define read heads by inherenting the Head class. We will extend a interact_with_matrix method to return the read vector (read heads) or to manipulate matrix (write heads)."
   ]
  },
  {
   "cell_type": "code",
   "execution_count": 12,
   "metadata": {},
   "outputs": [],
   "source": [
    "class ReadHead(Head):\n",
    "    def read(self):\n",
    "        r = np.dot(self.W.T, self.matrix)\n",
    "        # always make sure we get all the read outputs\n",
    "        assert r.shape[0] == 1\n",
    "        return r[0]\n",
    "    \n",
    "    # returns matrix gradients & head weighting gradients\n",
    "    # matrix_h is the historical version of the matrix\n",
    "    def backward(self, outgrad, matrix_h):\n",
    "        #assert len(outgrad.shape) == 1\n",
    "        #assert outgrad.shape[0] == self.M\n",
    "        assert outgrad.shape[1] == self.M\n",
    "        \n",
    "        # matrix grad is for write head to bptt\n",
    "        matrix_grad = np.dot(self.W, outgrad)\n",
    "        # w_grad is for read head config bptt\n",
    "        w_grad = np.dot(matrix_h, outgrad.T)\n",
    "        \n",
    "        return matrix_grad, w_grad"
   ]
  },
  {
   "cell_type": "code",
   "execution_count": 13,
   "metadata": {
    "collapsed": true
   },
   "outputs": [],
   "source": [
    "class WriteHead(Head):\n",
    "    def erase(self):    \n",
    "        assert len(self.e.shape) == 2\n",
    "        assert self.e.shape[0] == 1\n",
    "        assert self.e.shape[1] == self.M\n",
    "        # modify the matrix, not change reference\n",
    "        self.matrix[:] = np.multiply(self.matrix, (1 - np.dot(self.W, self.e)))[:]\n",
    "        \n",
    "    def add(self):\n",
    "        assert len(self.a.shape) == 2\n",
    "        assert self.a.shape[0] == 1\n",
    "        assert self.a.shape[1] == self.M\n",
    "        # modify the matrix, not change reference\n",
    "        self.matrix[:] = (self.matrix + np.dot(self.W, self.a))[:]\n",
    "        \n",
    "    # takes the matrix grad after add, and matrix value before erase\n",
    "    # returns write weighting gradients, add vector gradients, and erase gradients\n",
    "    def backward(self, matrix_grad, matrix_h_e):\n",
    "        eps = 0.0001\n",
    "        a_grad = np.dot(self.W.T, matrix_grad)\n",
    "        # w_grad at add time\n",
    "        w_grad = np.dot(matrix_grad, self.a.T)\n",
    "        # matrix grad at add time is the same as matrix grad at erase time\n",
    "        # for erase grad, we need to rearrange the terms in erase equations first\n",
    "        matrix_grad /= - matrix_h_e + eps\n",
    "        ### What if it's the first iteration? Hence the matrix is all zeros? \n",
    "        ### That case we would encounter a division by 0 error\n",
    "        e_grad = np.dot(self.W.T, matrix_grad)\n",
    "        # add the w_grad at erase time on top of w_grad at add time\n",
    "        w_grad += np.dot(matrix_grad, self.e.T)\n",
    "        \n",
    "        return w_grad, a_grad, e_grad"
   ]
  },
  {
   "cell_type": "markdown",
   "metadata": {},
   "source": [
    "### Controller\n",
    "We will calculate controller sizes using the number of heads, input size, output size, and memory matrix sizes. "
   ]
  },
  {
   "cell_type": "code",
   "execution_count": 14,
   "metadata": {
    "collapsed": true
   },
   "outputs": [],
   "source": [
    "# gradient clipping\n",
    "def clip(grad, min_g, max_g):\n",
    "    grad = np.minimum(grad, max_g)\n",
    "    grad = np.maximum(grad, min_g)\n",
    "    return grad\n",
    "\n",
    "def assert_clipped(grad, min_g, max_g):\n",
    "    assert (grad >= min_g).all()\n",
    "    assert (grad <= max_g).all()"
   ]
  },
  {
   "cell_type": "code",
   "execution_count": 15,
   "metadata": {
    "collapsed": true
   },
   "outputs": [],
   "source": [
    "# a simple feedforward layer\n",
    "class Linear(object):\n",
    "    def __init__(self, W):\n",
    "        self.W = W\n",
    "        self.X = []\n",
    "        self.grad = np.zeros_like(self.W)\n",
    "        \n",
    "    def update(self, lr):\n",
    "        self.checkRep()\n",
    "        self.W -= self.grad * lr\n",
    "        self.grad = np.zeros_like(self.W)\n",
    "        \n",
    "    def forward(self, X):\n",
    "        # save for backprop thru time\n",
    "        self.X.append(X)\n",
    "        return np.dot(self.W.T, X)\n",
    "    \n",
    "    def backward(self, outgrad):\n",
    "        outgrad = clip(outgrad, -10, 10)\n",
    "        assert_clipped(outgrad, -10, 10)\n",
    "        # accumulate gradient\n",
    "        assert len(self.X) > 0\n",
    "\n",
    "        self.grad += np.dot(np.array([self.X.pop()]).T, np.array([outgrad]))\n",
    "        \n",
    "        return np.dot(self.W, outgrad)\n",
    "    \n",
    "    def checkRep(self):\n",
    "        assert self.grad.shape == self.W.shape"
   ]
  },
  {
   "cell_type": "code",
   "execution_count": 16,
   "metadata": {
    "collapsed": true
   },
   "outputs": [],
   "source": [
    "class Sigmoid(object):\n",
    "    def __init__(self):\n",
    "        self.Y = []\n",
    "        \n",
    "    def forward(self, X):\n",
    "        # save for bptt\n",
    "        self.Y.append(sigmoid(X))\n",
    "        return self.Y[-1]\n",
    "    \n",
    "    def backward(self, outgrad):\n",
    "        # you can go back in time NO LONGERRRR!! (unfortunatly)\n",
    "        assert len(self.Y) > 0\n",
    "        \n",
    "        Y = self.Y.pop()\n",
    "        return Y * (1 - Y) * outgrad\n",
    "    \n",
    "    def update(self, lr):\n",
    "        pass"
   ]
  },
  {
   "cell_type": "code",
   "execution_count": 17,
   "metadata": {
    "collapsed": true
   },
   "outputs": [],
   "source": [
    "class Controller(object):\n",
    "    def __init__(self, graph):\n",
    "        self.graph = graph\n",
    "        \n",
    "    def forward(self, X):\n",
    "        z = X\n",
    "        for n in self.graph: \n",
    "            z = n.forward(z)\n",
    "        return z\n",
    "    \n",
    "    def backward(self, outgrad):\n",
    "        grad = outgrad\n",
    "        for n in reversed(self.graph):\n",
    "            grad = n.backward(grad)\n",
    "        return grad\n",
    "    \n",
    "    def update(self, lr):\n",
    "        for n in self.graph:\n",
    "            n.update(lr)"
   ]
  },
  {
   "cell_type": "markdown",
   "metadata": {},
   "source": [
    "### NTM"
   ]
  },
  {
   "cell_type": "code",
   "execution_count": 97,
   "metadata": {},
   "outputs": [],
   "source": [
    "class NeuralTuringMachine(object):\n",
    "    def __init__(self, memory_matrix, controller, nb_of_w_heads, nb_of_r_heads):\n",
    "        self.N = memory_matrix.N\n",
    "        self.M = memory_matrix.M\n",
    "        # componets\n",
    "        self.controller = controller\n",
    "        self.matrix = memory_matrix.matrix\n",
    "        self.w_heads = []\n",
    "        self.r_heads = []\n",
    "        self.memory_matrix = memory_matrix\n",
    "        memory_matrix.archive()\n",
    "        \n",
    "        # mount the heads\n",
    "        for i in range(nb_of_w_heads):\n",
    "            self.w_heads.append(WriteHead(memory_matrix, np.random.uniform(0, 1, (self.N, 1))))\n",
    "        for i in range(nb_of_r_heads):\n",
    "            self.r_heads.append(ReadHead(memory_matrix, np.random.uniform(0, 1, (self.N, 1))))\n",
    "\n",
    "        self.r = np.zeros((self.M * nb_of_r_heads))\n",
    "        \n",
    "    def step_forward(self, X):\n",
    "        # for convience's sake\n",
    "        N = self.N\n",
    "        M = self.M\n",
    "        \n",
    "        # input + read vector\n",
    "        z = np.zeros((X.shape[0] + self.r.shape[0]))\n",
    "        z[:X.shape[0]] = X\n",
    "        z[X.shape[0]:] = self.r\n",
    "        \n",
    "        # forward through the controller\n",
    "        z = self.controller.forward(z)\n",
    "        \n",
    "        # write weights first\n",
    "        for h in self.w_heads:\n",
    "            z_split = np.split(z, [M, M * 2, M * 3, M * 3 + N, M * 3 + N + 1, M * 3 + N + 2, M * 3 + N + 3])\n",
    "            \n",
    "            e = np.array([z_split[0]])\n",
    "            a = np.array([z_split[1]])\n",
    "            \n",
    "            K = z_split[2]\n",
    "            S = z_split[3]\n",
    "            beta = z_split[4]\n",
    "            gamma = z_split[5]\n",
    "            g = z_split[6]\n",
    "            z = z_split[7]\n",
    "            \n",
    "            h.calculate_weights(K, S, g, beta, gamma, e, a)\n",
    "            \n",
    "            \n",
    "        # read weights second\n",
    "        for h in self.r_heads:\n",
    "            z_split = np.split(z, [M, M + N, M + N + 1, M + N + 2, M + N + 3])\n",
    "            \n",
    "            K = z_split[0]\n",
    "            S = z_split[1]\n",
    "            beta = z_split[2]\n",
    "            gamma = z_split[3]\n",
    "            g = z_split[4]\n",
    "            z = z_split[5]\n",
    "            \n",
    "            h.calculate_weights(K, S, g, beta, gamma)\n",
    "            \n",
    "            \n",
    "        # write to matrix\n",
    "        for h in self.w_heads:\n",
    "            h.erase()\n",
    "            h.add()\n",
    "            \n",
    "        # read matrix & update read vector\n",
    "        self.r = np.array([])\n",
    "        for h in self.r_heads:\n",
    "            self.r = np.hstack([self.r, h.read()])\n",
    "                                \n",
    "        ##### save the matrix right now \n",
    "        ##   (since we need to back prop thru time later)\n",
    "        self.memory_matrix.archive()\n",
    "        \n",
    "        return z\n",
    "    \n",
    "    # backprop one timestep\n",
    "    # return the config gradients, aka the grads for one portion of the output of ontroller\n",
    "    def step_backward(self, outgrad):\n",
    "        grad = self.controller.backward(outgrad)\n",
    "        # read weighting grads\n",
    "        grad = grad[:self.r.shape[0]]\n",
    "        \n",
    "        config_grad = np.array([])\n",
    "        # we don't need this version of matrix anymore\n",
    "        matrix_h = self.memory_matrix.pop()\n",
    "        # we still need this version of matrix because \n",
    "        #   matrix before erase is the matrix after last read\n",
    "        #   which is what we need for for the next \n",
    "        matrix_h_e = self.memory_matrix.get_last_archive()\n",
    "        \n",
    "        # backprop read heads first\n",
    "        for h in self.r_heads:\n",
    "            grad_split = np.split(grad, [self.M])\n",
    "            \n",
    "            #### split for each head\n",
    "            h_grad = grad_split[0]\n",
    "            grad = grad_split[1]\n",
    "            \n",
    "            h_grad = np.array([h_grad])\n",
    "            \n",
    "            matrix_grad, w_grad = h.backward(h_grad, matrix_h)\n",
    "            # put this in the controller output style\n",
    "            config_grad = np.hstack([config_grad, h.get_config_grad(w_grad, matrix_h_e)])\n",
    "            # save it for later use\n",
    "            self.memory_matrix.save_gradient(matrix_grad)\n",
    "        \n",
    "        # back prop write heads\n",
    "        for h in reversed(self.w_heads):\n",
    "            w_grad, a_grad, e_grad = h.backward(self.memory_matrix.get_gradient(), matrix_h_e)\n",
    "            \n",
    "            # append in reverse order so it matched how input came in\n",
    "            config_grad = np.hstack([e_grad[0], a_grad[0], h.get_config_grad(w_grad, matrix_h_e), config_grad])\n",
    "        \n",
    "        # clear grad for next run\n",
    "        self.memory_matrix.clear_grad()\n",
    "        \n",
    "        return config_grad\n",
    "    \n",
    "    def update(self, lr):\n",
    "        self.controller.update(lr)"
   ]
  },
  {
   "cell_type": "markdown",
   "metadata": {},
   "source": [
    "## Simple Incremental Number Task - PASS\n",
    "We task the model by giving it an input from 0 - 5 encoded in one hot vector and ask what's the next increment.\n",
    "\n",
    "This can be achieved by simple feedforward NNs."
   ]
  },
  {
   "cell_type": "code",
   "execution_count": 292,
   "metadata": {},
   "outputs": [],
   "source": [
    "m = MemoryMatrix(7, 6, random_init = True)\n",
    "graph = [Linear(np.random.uniform(-1, 1, (6 + 6, 50))), Sigmoid(), Linear(np.random.uniform(-1, 1, (50, 70))), Sigmoid(), Linear(np.random.uniform(-1, 1, (70, 28*1 + 16*1 + 6))), Sigmoid()]\n",
    "con = Controller(graph)\n",
    "nb_of_w_heads = 1\n",
    "nb_of_r_heads = 1\n",
    "ntm = NeuralTuringMachine(m, con, nb_of_w_heads, nb_of_r_heads)"
   ]
  },
  {
   "cell_type": "code",
   "execution_count": 293,
   "metadata": {},
   "outputs": [
    {
     "name": "stderr",
     "output_type": "stream",
     "text": [
      "100%|██████████| 100/100 [00:02<00:00, 36.50it/s]\n"
     ]
    }
   ],
   "source": [
    "costs = []\n",
    "for _ in tqdm(range(100)):\n",
    "    Y = []\n",
    "    for i in range(12):\n",
    "        a = np.zeros((6))\n",
    "        a[i % 6] = 1\n",
    "        Y.append(ntm.step_forward(a))\n",
    "\n",
    "    config_grad = np.zeros(28*1 + 16*1)\n",
    "    for i in reversed(range(12)):\n",
    "        T = np.zeros((6))\n",
    "        T[(i + 1)% 6] = 1\n",
    "        \n",
    "        cost = Y[i] - T\n",
    "        costs.append(np.sum(abs(cost)))\n",
    "        grad = np.hstack([config_grad, cost])\n",
    "        config_grad = ntm.step_backward(grad)\n",
    "\n",
    "    ntm.update(0.1)"
   ]
  },
  {
   "cell_type": "code",
   "execution_count": 294,
   "metadata": {},
   "outputs": [
    {
     "data": {
      "image/png": "[encoded data removed]",
      "text/plain": [
       "<matplotlib.figure.Figure at 0x105fa9150>"
      ]
     },
     "metadata": {},
     "output_type": "display_data"
    }
   ],
   "source": [
    "# plot learning curve\n",
    "plt.plot(costs, 'bo')\n",
    "plt.xlabel('itr')\n",
    "plt.ylabel('cost')\n",
    "plt.title('NTM Cost over time')\n",
    "plt.grid()\n",
    "plt.show()"
   ]
  },
  {
   "cell_type": "code",
   "execution_count": 295,
   "metadata": {
    "scrolled": true
   },
   "outputs": [
    {
     "name": "stdout",
     "output_type": "stream",
     "text": [
      "1\n",
      "2\n",
      "3\n",
      "4\n",
      "5\n",
      "0\n"
     ]
    }
   ],
   "source": [
    "for i in range(6):\n",
    "    test = np.zeros((6))\n",
    "    test[i] = 1\n",
    "    print np.argmax(ntm.step_forward(test))"
   ]
  },
  {
   "cell_type": "markdown",
   "metadata": {},
   "source": [
    "## Constant Input Incremental Number Task - NO PASS\n",
    "This task is esstentially the same as above, but with a twist: the input is alwsys constant. So we are trying to see if the model can establish temporal dependency.\n",
    "\n",
    "This CANNOT be achieved by simple feedforward NNs."
   ]
  },
  {
   "cell_type": "code",
   "execution_count": 273,
   "metadata": {
    "collapsed": true
   },
   "outputs": [],
   "source": [
    "m = MemoryMatrix(7, 6, random_init = True)\n",
    "graph = [Linear(np.random.uniform(-1, 1, (6 + 6, 50))), Sigmoid(), Linear(np.random.uniform(-1, 1, (50, 70))), Sigmoid(), Linear(np.random.uniform(-1, 1, (70, 28*1 + 16*1 + 6))), Sigmoid()]\n",
    "con = Controller(graph)\n",
    "nb_of_w_heads = 1\n",
    "nb_of_r_heads = 1\n",
    "ntm = NeuralTuringMachine(m, con, nb_of_w_heads, nb_of_r_heads)"
   ]
  },
  {
   "cell_type": "code",
   "execution_count": 274,
   "metadata": {},
   "outputs": [
    {
     "name": "stderr",
     "output_type": "stream",
     "text": [
      "100%|██████████| 10000/10000 [02:25<00:00, 68.66it/s]\n"
     ]
    }
   ],
   "source": [
    "costs = []\n",
    "for _ in tqdm(range(10000)):\n",
    "    Y = []\n",
    "    for i in range(6):\n",
    "        a = np.zeros((6))\n",
    "        #a[i % 6] = 1\n",
    "        Y.append(ntm.step_forward(a))\n",
    "\n",
    "    config_grad = np.zeros(28*1 + 16*1)\n",
    "    for i in reversed(range(6)):\n",
    "        T = np.zeros((6))\n",
    "        T[(i + 1)% 6] = 1\n",
    "        \n",
    "        cost = Y[i] - T\n",
    "        costs.append(np.sum(abs(cost)))\n",
    "        grad = np.hstack([config_grad, cost])\n",
    "        config_grad = ntm.step_backward(grad)\n",
    "        \n",
    "    ntm.update(0.05)"
   ]
  },
  {
   "cell_type": "code",
   "execution_count": 275,
   "metadata": {},
   "outputs": [
    {
     "data": {
      "image/png": "[encoded data removed]",
      "text/plain": [
       "<matplotlib.figure.Figure at 0x106c4f090>"
      ]
     },
     "metadata": {},
     "output_type": "display_data"
    }
   ],
   "source": [
    "# plot learning curve\n",
    "plt.plot(costs, 'bo')\n",
    "plt.xlabel('itr')\n",
    "plt.ylabel('cost')\n",
    "plt.title('NTM Cost over time')\n",
    "plt.grid()\n",
    "plt.show()"
   ]
  },
  {
   "cell_type": "code",
   "execution_count": 279,
   "metadata": {
    "scrolled": true
   },
   "outputs": [
    {
     "name": "stdout",
     "output_type": "stream",
     "text": [
      "0\n",
      "0\n",
      "0\n",
      "0\n",
      "0\n",
      "0\n"
     ]
    }
   ],
   "source": [
    "for i in range(6):\n",
    "    test = np.zeros((6))\n",
    "    #test[(i) % 6] = 1\n",
    "    print np.argmax(ntm.step_forward(test))"
   ]
  },
  {
   "cell_type": "markdown",
   "metadata": {},
   "source": [
    "## Temporal AND Task - NO PASS\n",
    "We task the model to perform ADD operation by giving it the operands sperately. This task helps us to whether evaluate can save data into its matrix and read it later. "
   ]
  },
  {
   "cell_type": "code",
   "execution_count": 264,
   "metadata": {
    "collapsed": true
   },
   "outputs": [],
   "source": [
    "N = 2\n",
    "M = 1\n",
    "I = 1\n",
    "O = 1\n",
    "\n",
    "m = MemoryMatrix(2, 1, random_init = True)\n",
    "graph = [Linear(np.random.uniform(-1, 1, (M + I, 10))), Sigmoid(), Linear(np.random.uniform(-1, 1, (10, 10))), Sigmoid(), Linear(np.random.uniform(-1, 1, (10, (3 * M + N + 3)*1 + (M + N + 3)*1 + O))), Sigmoid()]\n",
    "con = Controller(graph)\n",
    "nb_of_w_heads = 1\n",
    "nb_of_r_heads = 1\n",
    "ntm = NeuralTuringMachine(m, con, nb_of_w_heads, nb_of_r_heads)"
   ]
  },
  {
   "cell_type": "code",
   "execution_count": 269,
   "metadata": {},
   "outputs": [
    {
     "name": "stderr",
     "output_type": "stream",
     "text": [
      "100%|██████████| 10000/10000 [03:12<00:00, 52.01it/s]\n"
     ]
    }
   ],
   "source": [
    "costs = []\n",
    "config_grad = np.zeros((3 * M + N + 3)*1 + (M + N + 3)*1)\n",
    "for _ in tqdm(range(10000)):\n",
    "    \n",
    "    for _ in range(10):\n",
    "        a = np.random.randint(0, 2, (1))\n",
    "        b = np.random.randint(0, 2, (1))\n",
    "        if a[0] == 1 and b[0] == 1:\n",
    "            T = np.array([1])\n",
    "        else:\n",
    "            T = np.array([0])\n",
    "\n",
    "        ntm.step_forward(a)\n",
    "        Y = ntm.step_forward(b)\n",
    "\n",
    "        cost = Y - T\n",
    "        costs.append(np.sum(abs(cost)))\n",
    "\n",
    "        grad = np.hstack([config_grad, cost])\n",
    "        config_grad = ntm.step_backward(grad)\n",
    "\n",
    "        ntm.update(0.1)"
   ]
  },
  {
   "cell_type": "code",
   "execution_count": 270,
   "metadata": {},
   "outputs": [
    {
     "data": {
      "image/png": "[encoded data removed]",
      "text/plain": [
       "<matplotlib.figure.Figure at 0x1069c9e50>"
      ]
     },
     "metadata": {},
     "output_type": "display_data"
    }
   ],
   "source": [
    "# plot learning curve\n",
    "plt.plot(costs, 'bo')\n",
    "plt.xlabel('itr')\n",
    "plt.ylabel('cost')\n",
    "plt.title('NTM Cost over time')\n",
    "plt.grid()\n",
    "plt.show()"
   ]
  },
  {
   "cell_type": "code",
   "execution_count": 271,
   "metadata": {
    "scrolled": true
   },
   "outputs": [
    {
     "name": "stdout",
     "output_type": "stream",
     "text": [
      "[ 0.63446824]\n",
      "[ 0.6616905]\n"
     ]
    }
   ],
   "source": [
    "a = np.array([0])\n",
    "b = np.array([1])\n",
    "#test[(i) % 6] = 1\n",
    "ntm.step_forward(a)\n",
    "print ntm.step_forward(b)\n",
    "\n",
    "a = np.array([1])\n",
    "b = np.array([1])\n",
    "#test[(i) % 6] = 1\n",
    "ntm.step_forward(a)\n",
    "print ntm.step_forward(b)"
   ]
  }
 ],
 "metadata": {
  "kernelspec": {
   "display_name": "Python 2",
   "language": "python",
   "name": "python2"
  },
  "language_info": {
   "codemirror_mode": {
    "name": "ipython",
    "version": 2
   },
   "file_extension": ".py",
   "mimetype": "text/x-python",
   "name": "python",
   "nbconvert_exporter": "python",
   "pygments_lexer": "ipython2",
   "version": "2.7.12"
  }
 },
 "nbformat": 4,
 "nbformat_minor": 2
}
